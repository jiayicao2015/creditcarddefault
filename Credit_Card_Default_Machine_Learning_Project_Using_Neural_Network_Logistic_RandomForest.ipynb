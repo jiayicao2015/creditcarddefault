{
  "cells": [
    {
      "cell_type": "markdown",
      "source": [
        "# **Credit Card Default Machine Learning Project**\n"
      ],
      "metadata": {
        "id": "m8TZAKV6cw2-"
      }
    },
    {
      "cell_type": "markdown",
      "source": [
        "## Backgroud:\n",
        "\n",
        "A Taiwan-based credit card issuer wants to better predict the likelihood of default for its customers, as well as identify the key drivers that determine this likelihood. This would inform the issuer’s decisions on who to give a credit card to and what credit limit to provide. It would also help the issuer have a better understanding of their current and potential customers, which would inform their future strategy, including their planning of offering targeted credit products to their customers."
      ],
      "metadata": {
        "id": "rxSf0g1-lCEd"
      }
    },
    {
      "cell_type": "markdown",
      "metadata": {
        "id": "95TrKOZf_gub"
      },
      "source": [
        "## The Goal:\n",
        "\n",
        "Build a neural network to predict the output in the default payment dataset. I will also try Logistic Regression and Random Forest to find the best model \n",
        "\n",
        "I use Dense layers and dropout layers only in my Neural Network.\n",
        "\n",
        "## The Dataset:\n",
        "\"CreditDefault_training.csv\" has 3985 records. \n",
        "\n",
        "\"CreditDefault_Xtest.csv\" contains contains 1000 rows and 14 columns. This is the test set which only contains the features."
      ]
    },
    {
      "cell_type": "markdown",
      "source": [
        "## Keras: A high level neural network library - Grade: 84\n",
        "\n",
        "In this project I revisited classification using simple neural networks. To do so I used Keras, a popular neural network package. Keras is a high level library that allows rapid prototyping of neural networks due to its precompiled layers, just as Scikit-learn contains a number of prebuilt classifiers."
      ],
      "metadata": {
        "id": "cbd_1BVpljOU"
      }
    },
    {
      "cell_type": "code",
      "source": [
        "from google.colab import files \n",
        "src = list(files.upload().values())[0]\n",
        "open('utils.py','wb').write(src)\n",
        "import utils"
      ],
      "metadata": {
        "id": "KXjA9KA_l85Y"
      },
      "execution_count": null,
      "outputs": []
    },
    {
      "cell_type": "code",
      "source": [
        "# Relevant imports\n",
        "from keras.models import Sequential\n",
        "from keras.layers import Dense\n",
        "from tensorflow.keras.optimizers import SGD\n",
        "from keras.models import Sequential\n",
        "from keras.layers import Dense\n",
        "from tensorflow.keras.optimizers import SGD\n",
        "from keras.layers import Dense, Dropout\n",
        "from sklearn.linear_model import LogisticRegression\n",
        "from sklearn.ensemble import RandomForestClassifier\n",
        "from sklearn.model_selection import GridSearchCV\n",
        "from tensorflow.keras.utils import to_categorical"
      ],
      "metadata": {
        "id": "hRfIqvJHmA_l"
      },
      "execution_count": null,
      "outputs": []
    },
    {
      "cell_type": "code",
      "execution_count": null,
      "metadata": {
        "id": "60tBCgSw3iou"
      },
      "outputs": [],
      "source": [
        "import numpy as np\n",
        "import pandas as pd\n",
        "from google.colab import files\n",
        "import io"
      ]
    },
    {
      "cell_type": "code",
      "execution_count": null,
      "metadata": {
        "colab": {
          "base_uri": "https://localhost:8080/",
          "height": 73,
          "resources": {
            "http://localhost:8080/nbextensions/google.colab/files.js": {
              "data": "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",
              "headers": [
                [
                  "content-type",
                  "application/javascript"
                ]
              ],
              "ok": true,
              "status": 200,
              "status_text": ""
            }
          }
        },
        "id": "JM2SfGESVByv",
        "outputId": "678f1874-2c5e-4095-eb5c-64eff072d799"
      },
      "outputs": [
        {
          "data": {
            "text/html": [
              "\n",
              "     <input type=\"file\" id=\"files-705ca007-1ce9-49a6-b397-298ba3c5cd57\" name=\"files[]\" multiple disabled\n",
              "        style=\"border:none\" />\n",
              "     <output id=\"result-705ca007-1ce9-49a6-b397-298ba3c5cd57\">\n",
              "      Upload widget is only available when the cell has been executed in the\n",
              "      current browser session. Please rerun this cell to enable.\n",
              "      </output>\n",
              "      <script src=\"/nbextensions/google.colab/files.js\"></script> "
            ],
            "text/plain": [
              "<IPython.core.display.HTML object>"
            ]
          },
          "metadata": {},
          "output_type": "display_data"
        },
        {
          "name": "stdout",
          "output_type": "stream",
          "text": [
            "Saving CreditDefault_training.csv to CreditDefault_training.csv\n"
          ]
        }
      ],
      "source": [
        "### YOUR CODE HERE ###\n",
        "# Load your training data set\n",
        "uploaded = files.upload()\n",
        "df = pd.read_csv(io.BytesIO(uploaded['CreditDefault_training.csv']))"
      ]
    },
    {
      "cell_type": "code",
      "execution_count": null,
      "metadata": {
        "colab": {
          "base_uri": "https://localhost:8080/",
          "height": 206
        },
        "id": "FjelmmpKVQr9",
        "outputId": "973b0d52-7bcc-4d8a-943e-68754ced0e72"
      },
      "outputs": [
        {
          "data": {
            "text/html": [
              "<div>\n",
              "<style scoped>\n",
              "    .dataframe tbody tr th:only-of-type {\n",
              "        vertical-align: middle;\n",
              "    }\n",
              "\n",
              "    .dataframe tbody tr th {\n",
              "        vertical-align: top;\n",
              "    }\n",
              "\n",
              "    .dataframe thead th {\n",
              "        text-align: right;\n",
              "    }\n",
              "</style>\n",
              "<table border=\"1\" class=\"dataframe\">\n",
              "  <thead>\n",
              "    <tr style=\"text-align: right;\">\n",
              "      <th></th>\n",
              "      <th>LIMIT_BAL</th>\n",
              "      <th>SEX</th>\n",
              "      <th>EDUCATION</th>\n",
              "      <th>MARRIAGE</th>\n",
              "      <th>AGE</th>\n",
              "      <th>PAY_1</th>\n",
              "      <th>PAY_2</th>\n",
              "      <th>PAY_3</th>\n",
              "      <th>PAY_4</th>\n",
              "      <th>PAY_5</th>\n",
              "      <th>PAY_6</th>\n",
              "      <th>BILL_AMT1</th>\n",
              "      <th>BILL_AMT2</th>\n",
              "      <th>BILL_AMT3</th>\n",
              "      <th>BILL_AMT4</th>\n",
              "      <th>BILL_AMT5</th>\n",
              "      <th>BILL_AMT6</th>\n",
              "      <th>PAY_AMT1</th>\n",
              "      <th>PAY_AMT2</th>\n",
              "      <th>PAY_AMT3</th>\n",
              "      <th>PAY_AMT4</th>\n",
              "      <th>PAY_AMT5</th>\n",
              "      <th>PAY_AMT6</th>\n",
              "    </tr>\n",
              "  </thead>\n",
              "  <tbody>\n",
              "    <tr>\n",
              "      <th>0</th>\n",
              "      <td>50000</td>\n",
              "      <td>2</td>\n",
              "      <td>2</td>\n",
              "      <td>2</td>\n",
              "      <td>24</td>\n",
              "      <td>-1</td>\n",
              "      <td>-1</td>\n",
              "      <td>-1</td>\n",
              "      <td>-1</td>\n",
              "      <td>0</td>\n",
              "      <td>-1</td>\n",
              "      <td>1572</td>\n",
              "      <td>1572</td>\n",
              "      <td>1572</td>\n",
              "      <td>6561</td>\n",
              "      <td>5091</td>\n",
              "      <td>353</td>\n",
              "      <td>1572</td>\n",
              "      <td>1572</td>\n",
              "      <td>6561</td>\n",
              "      <td>102</td>\n",
              "      <td>353</td>\n",
              "      <td>27000</td>\n",
              "    </tr>\n",
              "    <tr>\n",
              "      <th>1</th>\n",
              "      <td>70000</td>\n",
              "      <td>2</td>\n",
              "      <td>2</td>\n",
              "      <td>2</td>\n",
              "      <td>24</td>\n",
              "      <td>0</td>\n",
              "      <td>0</td>\n",
              "      <td>0</td>\n",
              "      <td>0</td>\n",
              "      <td>0</td>\n",
              "      <td>0</td>\n",
              "      <td>61094</td>\n",
              "      <td>62483</td>\n",
              "      <td>63882</td>\n",
              "      <td>64733</td>\n",
              "      <td>66680</td>\n",
              "      <td>71243</td>\n",
              "      <td>3000</td>\n",
              "      <td>3000</td>\n",
              "      <td>2500</td>\n",
              "      <td>3000</td>\n",
              "      <td>5800</td>\n",
              "      <td>0</td>\n",
              "    </tr>\n",
              "    <tr>\n",
              "      <th>2</th>\n",
              "      <td>420000</td>\n",
              "      <td>1</td>\n",
              "      <td>1</td>\n",
              "      <td>1</td>\n",
              "      <td>43</td>\n",
              "      <td>-2</td>\n",
              "      <td>-2</td>\n",
              "      <td>-2</td>\n",
              "      <td>-2</td>\n",
              "      <td>-2</td>\n",
              "      <td>-2</td>\n",
              "      <td>8100</td>\n",
              "      <td>14270</td>\n",
              "      <td>7324</td>\n",
              "      <td>2846</td>\n",
              "      <td>3027</td>\n",
              "      <td>5946</td>\n",
              "      <td>14274</td>\n",
              "      <td>8232</td>\n",
              "      <td>2853</td>\n",
              "      <td>3027</td>\n",
              "      <td>5946</td>\n",
              "      <td>32053</td>\n",
              "    </tr>\n",
              "    <tr>\n",
              "      <th>3</th>\n",
              "      <td>30000</td>\n",
              "      <td>1</td>\n",
              "      <td>2</td>\n",
              "      <td>3</td>\n",
              "      <td>53</td>\n",
              "      <td>1</td>\n",
              "      <td>-2</td>\n",
              "      <td>-1</td>\n",
              "      <td>2</td>\n",
              "      <td>0</td>\n",
              "      <td>0</td>\n",
              "      <td>0</td>\n",
              "      <td>0</td>\n",
              "      <td>4070</td>\n",
              "      <td>3825</td>\n",
              "      <td>3825</td>\n",
              "      <td>0</td>\n",
              "      <td>0</td>\n",
              "      <td>4070</td>\n",
              "      <td>0</td>\n",
              "      <td>0</td>\n",
              "      <td>0</td>\n",
              "      <td>0</td>\n",
              "    </tr>\n",
              "    <tr>\n",
              "      <th>4</th>\n",
              "      <td>50000</td>\n",
              "      <td>2</td>\n",
              "      <td>2</td>\n",
              "      <td>1</td>\n",
              "      <td>49</td>\n",
              "      <td>1</td>\n",
              "      <td>2</td>\n",
              "      <td>2</td>\n",
              "      <td>2</td>\n",
              "      <td>0</td>\n",
              "      <td>0</td>\n",
              "      <td>19208</td>\n",
              "      <td>19608</td>\n",
              "      <td>22608</td>\n",
              "      <td>21951</td>\n",
              "      <td>22287</td>\n",
              "      <td>22778</td>\n",
              "      <td>1000</td>\n",
              "      <td>3321</td>\n",
              "      <td>0</td>\n",
              "      <td>1000</td>\n",
              "      <td>1000</td>\n",
              "      <td>1001</td>\n",
              "    </tr>\n",
              "  </tbody>\n",
              "</table>\n",
              "</div>"
            ],
            "text/plain": [
              "   LIMIT_BAL  SEX  EDUCATION  MARRIAGE  ...  PAY_AMT3  PAY_AMT4  PAY_AMT5  PAY_AMT6\n",
              "0      50000    2          2         2  ...      6561       102       353     27000\n",
              "1      70000    2          2         2  ...      2500      3000      5800         0\n",
              "2     420000    1          1         1  ...      2853      3027      5946     32053\n",
              "3      30000    1          2         3  ...         0         0         0         0\n",
              "4      50000    2          2         1  ...         0      1000      1000      1001\n",
              "\n",
              "[5 rows x 23 columns]"
            ]
          },
          "execution_count": 35,
          "metadata": {},
          "output_type": "execute_result"
        }
      ],
      "source": [
        "# Split data into X (features) and y (target)\n",
        "# Please make sure y is in a one-hot representation\n",
        "# WRITE CODE HERE\n",
        "agg_func_describe = {'LIMIT_BAL': ['describe']}\n",
        "df.groupby(['default.payment.next.month']).agg(agg_func_describe).round(1)\n",
        "# Split training data into X and y\n",
        "from tensorflow.keras.utils import to_categorical\n",
        "y = to_categorical(df['default.payment.next.month'])\n",
        "# Split training data into X and y\n",
        "data_training = df.drop(['default.payment.next.month'], axis=1)\n",
        "data_training.head()"
      ]
    },
    {
      "cell_type": "markdown",
      "metadata": {
        "id": "WoPuroUXT35G"
      },
      "source": [
        "### **STEP ONE. Read and clean the data**<br/>\n",
        "Rules:\n",
        "- Apply standardization to continuous values<br/> \n",
        "- Convert categorical variables and the target \"default.payment.next.month\" into one-hot encodings. <br>\n",
        "- Split data into train and validation set<br/>"
      ]
    },
    {
      "cell_type": "code",
      "execution_count": null,
      "metadata": {
        "colab": {
          "base_uri": "https://localhost:8080/",
          "height": 73,
          "resources": {
            "http://localhost:8080/nbextensions/google.colab/files.js": {
              "data": "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",
              "headers": [
                [
                  "content-type",
                  "application/javascript"
                ]
              ],
              "ok": true,
              "status": 200,
              "status_text": ""
            }
          }
        },
        "id": "3Q1jmtVNWNcP",
        "outputId": "815dabf9-1f71-42b7-b8e2-67d4e44cbc10"
      },
      "outputs": [
        {
          "data": {
            "text/html": [
              "\n",
              "     <input type=\"file\" id=\"files-e956b354-04c9-4a3e-97a2-d5e7152a8afb\" name=\"files[]\" multiple disabled\n",
              "        style=\"border:none\" />\n",
              "     <output id=\"result-e956b354-04c9-4a3e-97a2-d5e7152a8afb\">\n",
              "      Upload widget is only available when the cell has been executed in the\n",
              "      current browser session. Please rerun this cell to enable.\n",
              "      </output>\n",
              "      <script src=\"/nbextensions/google.colab/files.js\"></script> "
            ],
            "text/plain": [
              "<IPython.core.display.HTML object>"
            ]
          },
          "metadata": {},
          "output_type": "display_data"
        },
        {
          "name": "stdout",
          "output_type": "stream",
          "text": [
            "Saving CreditDefault_Xtest.csv to CreditDefault_Xtest.csv\n"
          ]
        }
      ],
      "source": [
        "# Load test data set\n",
        "uploaded = files.upload()\n",
        "df_test = pd.read_csv(io.BytesIO(uploaded['CreditDefault_Xtest.csv']))"
      ]
    },
    {
      "cell_type": "code",
      "execution_count": null,
      "metadata": {
        "id": "bagEuMWcWRQE"
      },
      "outputs": [],
      "source": [
        "import pandas as pd\n",
        "from sklearn.preprocessing import OneHotEncoder\n",
        "\n",
        "onehot_pay = OneHotEncoder(categories = [[-2,-1,0,1,2,3,4,5,6,7,8,9]]*6)\n",
        "\n",
        "X_training_credit_enc_pay = pd.DataFrame(onehot_pay.fit_transform(df[['PAY_1','PAY_2','PAY_3','PAY_4','PAY_5','PAY_6']]).toarray())\n",
        "X_training_credit_enc_pay.columns = onehot_pay.get_feature_names_out(['PAY_1','PAY_2','PAY_3','PAY_4','PAY_5','PAY_6'])\n",
        "\n",
        "X_test_credit_enc_pay = pd.DataFrame(onehot_pay.transform(df_test[['PAY_1','PAY_2','PAY_3','PAY_4','PAY_5','PAY_6']]).toarray())\n",
        "X_test_credit_enc_pay.columns = onehot_pay.get_feature_names_out(['PAY_1','PAY_2','PAY_3','PAY_4','PAY_5','PAY_6'])"
      ]
    },
    {
      "cell_type": "code",
      "execution_count": null,
      "metadata": {
        "colab": {
          "base_uri": "https://localhost:8080/",
          "height": 206
        },
        "id": "wLuTqPGpWdUz",
        "outputId": "20186405-c235-455d-9971-430e27f40953"
      },
      "outputs": [
        {
          "data": {
            "text/html": [
              "<div>\n",
              "<style scoped>\n",
              "    .dataframe tbody tr th:only-of-type {\n",
              "        vertical-align: middle;\n",
              "    }\n",
              "\n",
              "    .dataframe tbody tr th {\n",
              "        vertical-align: top;\n",
              "    }\n",
              "\n",
              "    .dataframe thead th {\n",
              "        text-align: right;\n",
              "    }\n",
              "</style>\n",
              "<table border=\"1\" class=\"dataframe\">\n",
              "  <thead>\n",
              "    <tr style=\"text-align: right;\">\n",
              "      <th></th>\n",
              "      <th>SEX_1</th>\n",
              "      <th>SEX_2</th>\n",
              "      <th>EDUCATION_1</th>\n",
              "      <th>EDUCATION_2</th>\n",
              "      <th>EDUCATION_3</th>\n",
              "      <th>EDUCATION_4</th>\n",
              "      <th>EDUCATION_5</th>\n",
              "      <th>EDUCATION_6</th>\n",
              "      <th>MARRIAGE_1</th>\n",
              "      <th>MARRIAGE_2</th>\n",
              "      <th>MARRIAGE_3</th>\n",
              "    </tr>\n",
              "  </thead>\n",
              "  <tbody>\n",
              "    <tr>\n",
              "      <th>0</th>\n",
              "      <td>0.0</td>\n",
              "      <td>1.0</td>\n",
              "      <td>0.0</td>\n",
              "      <td>1.0</td>\n",
              "      <td>0.0</td>\n",
              "      <td>0.0</td>\n",
              "      <td>0.0</td>\n",
              "      <td>0.0</td>\n",
              "      <td>0.0</td>\n",
              "      <td>1.0</td>\n",
              "      <td>0.0</td>\n",
              "    </tr>\n",
              "    <tr>\n",
              "      <th>1</th>\n",
              "      <td>0.0</td>\n",
              "      <td>1.0</td>\n",
              "      <td>0.0</td>\n",
              "      <td>1.0</td>\n",
              "      <td>0.0</td>\n",
              "      <td>0.0</td>\n",
              "      <td>0.0</td>\n",
              "      <td>0.0</td>\n",
              "      <td>0.0</td>\n",
              "      <td>1.0</td>\n",
              "      <td>0.0</td>\n",
              "    </tr>\n",
              "    <tr>\n",
              "      <th>2</th>\n",
              "      <td>1.0</td>\n",
              "      <td>0.0</td>\n",
              "      <td>1.0</td>\n",
              "      <td>0.0</td>\n",
              "      <td>0.0</td>\n",
              "      <td>0.0</td>\n",
              "      <td>0.0</td>\n",
              "      <td>0.0</td>\n",
              "      <td>1.0</td>\n",
              "      <td>0.0</td>\n",
              "      <td>0.0</td>\n",
              "    </tr>\n",
              "    <tr>\n",
              "      <th>3</th>\n",
              "      <td>1.0</td>\n",
              "      <td>0.0</td>\n",
              "      <td>0.0</td>\n",
              "      <td>1.0</td>\n",
              "      <td>0.0</td>\n",
              "      <td>0.0</td>\n",
              "      <td>0.0</td>\n",
              "      <td>0.0</td>\n",
              "      <td>0.0</td>\n",
              "      <td>0.0</td>\n",
              "      <td>1.0</td>\n",
              "    </tr>\n",
              "    <tr>\n",
              "      <th>4</th>\n",
              "      <td>0.0</td>\n",
              "      <td>1.0</td>\n",
              "      <td>0.0</td>\n",
              "      <td>1.0</td>\n",
              "      <td>0.0</td>\n",
              "      <td>0.0</td>\n",
              "      <td>0.0</td>\n",
              "      <td>0.0</td>\n",
              "      <td>1.0</td>\n",
              "      <td>0.0</td>\n",
              "      <td>0.0</td>\n",
              "    </tr>\n",
              "  </tbody>\n",
              "</table>\n",
              "</div>"
            ],
            "text/plain": [
              "   SEX_1  SEX_2  EDUCATION_1  ...  MARRIAGE_1  MARRIAGE_2  MARRIAGE_3\n",
              "0    0.0    1.0          0.0  ...         0.0         1.0         0.0\n",
              "1    0.0    1.0          0.0  ...         0.0         1.0         0.0\n",
              "2    1.0    0.0          1.0  ...         1.0         0.0         0.0\n",
              "3    1.0    0.0          0.0  ...         0.0         0.0         1.0\n",
              "4    0.0    1.0          0.0  ...         1.0         0.0         0.0\n",
              "\n",
              "[5 rows x 11 columns]"
            ]
          },
          "execution_count": 37,
          "metadata": {},
          "output_type": "execute_result"
        }
      ],
      "source": [
        "#standardization and one-hot encoding \n",
        "import pandas as pd\n",
        "from sklearn.preprocessing import OneHotEncoder\n",
        "enc = OneHotEncoder(sparse=False)\n",
        "train_enc_cat = enc.fit_transform(df.loc[:, ['SEX', 'EDUCATION', 'MARRIAGE']])\n",
        "train_enc_cat = pd.DataFrame(train_enc_cat, columns=enc.get_feature_names_out ())\n",
        "train_enc_cat.head()"
      ]
    },
    {
      "cell_type": "code",
      "execution_count": null,
      "metadata": {
        "colab": {
          "base_uri": "https://localhost:8080/",
          "height": 206
        },
        "id": "UZn5g6FtWgfr",
        "outputId": "eabfedbc-d632-4b12-9b4f-6cbeb669ade3"
      },
      "outputs": [
        {
          "data": {
            "text/html": [
              "<div>\n",
              "<style scoped>\n",
              "    .dataframe tbody tr th:only-of-type {\n",
              "        vertical-align: middle;\n",
              "    }\n",
              "\n",
              "    .dataframe tbody tr th {\n",
              "        vertical-align: top;\n",
              "    }\n",
              "\n",
              "    .dataframe thead th {\n",
              "        text-align: right;\n",
              "    }\n",
              "</style>\n",
              "<table border=\"1\" class=\"dataframe\">\n",
              "  <thead>\n",
              "    <tr style=\"text-align: right;\">\n",
              "      <th></th>\n",
              "      <th>SEX_1</th>\n",
              "      <th>SEX_2</th>\n",
              "      <th>EDUCATION_1</th>\n",
              "      <th>EDUCATION_2</th>\n",
              "      <th>EDUCATION_3</th>\n",
              "      <th>EDUCATION_4</th>\n",
              "      <th>EDUCATION_5</th>\n",
              "      <th>EDUCATION_6</th>\n",
              "      <th>MARRIAGE_1</th>\n",
              "      <th>MARRIAGE_2</th>\n",
              "      <th>MARRIAGE_3</th>\n",
              "    </tr>\n",
              "  </thead>\n",
              "  <tbody>\n",
              "    <tr>\n",
              "      <th>0</th>\n",
              "      <td>1.0</td>\n",
              "      <td>0.0</td>\n",
              "      <td>0.0</td>\n",
              "      <td>0.0</td>\n",
              "      <td>0.0</td>\n",
              "      <td>0.0</td>\n",
              "      <td>0.0</td>\n",
              "      <td>1.0</td>\n",
              "      <td>1.0</td>\n",
              "      <td>0.0</td>\n",
              "      <td>0.0</td>\n",
              "    </tr>\n",
              "    <tr>\n",
              "      <th>1</th>\n",
              "      <td>1.0</td>\n",
              "      <td>0.0</td>\n",
              "      <td>1.0</td>\n",
              "      <td>0.0</td>\n",
              "      <td>0.0</td>\n",
              "      <td>0.0</td>\n",
              "      <td>0.0</td>\n",
              "      <td>0.0</td>\n",
              "      <td>0.0</td>\n",
              "      <td>1.0</td>\n",
              "      <td>0.0</td>\n",
              "    </tr>\n",
              "    <tr>\n",
              "      <th>2</th>\n",
              "      <td>0.0</td>\n",
              "      <td>1.0</td>\n",
              "      <td>1.0</td>\n",
              "      <td>0.0</td>\n",
              "      <td>0.0</td>\n",
              "      <td>0.0</td>\n",
              "      <td>0.0</td>\n",
              "      <td>0.0</td>\n",
              "      <td>1.0</td>\n",
              "      <td>0.0</td>\n",
              "      <td>0.0</td>\n",
              "    </tr>\n",
              "    <tr>\n",
              "      <th>3</th>\n",
              "      <td>0.0</td>\n",
              "      <td>1.0</td>\n",
              "      <td>0.0</td>\n",
              "      <td>1.0</td>\n",
              "      <td>0.0</td>\n",
              "      <td>0.0</td>\n",
              "      <td>0.0</td>\n",
              "      <td>0.0</td>\n",
              "      <td>0.0</td>\n",
              "      <td>1.0</td>\n",
              "      <td>0.0</td>\n",
              "    </tr>\n",
              "    <tr>\n",
              "      <th>4</th>\n",
              "      <td>1.0</td>\n",
              "      <td>0.0</td>\n",
              "      <td>1.0</td>\n",
              "      <td>0.0</td>\n",
              "      <td>0.0</td>\n",
              "      <td>0.0</td>\n",
              "      <td>0.0</td>\n",
              "      <td>0.0</td>\n",
              "      <td>1.0</td>\n",
              "      <td>0.0</td>\n",
              "      <td>0.0</td>\n",
              "    </tr>\n",
              "  </tbody>\n",
              "</table>\n",
              "</div>"
            ],
            "text/plain": [
              "   SEX_1  SEX_2  EDUCATION_1  ...  MARRIAGE_1  MARRIAGE_2  MARRIAGE_3\n",
              "0    1.0    0.0          0.0  ...         1.0         0.0         0.0\n",
              "1    1.0    0.0          1.0  ...         0.0         1.0         0.0\n",
              "2    0.0    1.0          1.0  ...         1.0         0.0         0.0\n",
              "3    0.0    1.0          0.0  ...         0.0         1.0         0.0\n",
              "4    1.0    0.0          1.0  ...         1.0         0.0         0.0\n",
              "\n",
              "[5 rows x 11 columns]"
            ]
          },
          "execution_count": 38,
          "metadata": {},
          "output_type": "execute_result"
        }
      ],
      "source": [
        "#Applying the same one hot encoding on the Test dataset \n",
        "test_enc_cat = enc.transform(df_test.loc[:, ['SEX', 'EDUCATION', 'MARRIAGE']])\n",
        "test_enc_cat = pd.DataFrame(test_enc_cat, columns=enc.get_feature_names_out())\n",
        "test_enc_cat.head()"
      ]
    },
    {
      "cell_type": "code",
      "execution_count": null,
      "metadata": {
        "colab": {
          "base_uri": "https://localhost:8080/",
          "height": 206
        },
        "id": "nLTrL8oaHu3Y",
        "outputId": "bb8e2d8b-aad6-4d34-ced4-42a3e7ab6483"
      },
      "outputs": [
        {
          "data": {
            "text/html": [
              "<div>\n",
              "<style scoped>\n",
              "    .dataframe tbody tr th:only-of-type {\n",
              "        vertical-align: middle;\n",
              "    }\n",
              "\n",
              "    .dataframe tbody tr th {\n",
              "        vertical-align: top;\n",
              "    }\n",
              "\n",
              "    .dataframe thead th {\n",
              "        text-align: right;\n",
              "    }\n",
              "</style>\n",
              "<table border=\"1\" class=\"dataframe\">\n",
              "  <thead>\n",
              "    <tr style=\"text-align: right;\">\n",
              "      <th></th>\n",
              "      <th>LIMIT_BAL</th>\n",
              "      <th>AGE</th>\n",
              "      <th>BILL_AMT1</th>\n",
              "      <th>BILL_AMT2</th>\n",
              "      <th>BILL_AMT3</th>\n",
              "      <th>BILL_AMT4</th>\n",
              "      <th>BILL_AMT5</th>\n",
              "      <th>BILL_AMT6</th>\n",
              "      <th>PAY_AMT1</th>\n",
              "      <th>PAY_AMT2</th>\n",
              "      <th>PAY_AMT3</th>\n",
              "      <th>PAY_AMT4</th>\n",
              "      <th>PAY_AMT5</th>\n",
              "      <th>PAY_AMT6</th>\n",
              "    </tr>\n",
              "  </thead>\n",
              "  <tbody>\n",
              "    <tr>\n",
              "      <th>0</th>\n",
              "      <td>50000</td>\n",
              "      <td>24</td>\n",
              "      <td>1572</td>\n",
              "      <td>1572</td>\n",
              "      <td>1572</td>\n",
              "      <td>6561</td>\n",
              "      <td>5091</td>\n",
              "      <td>353</td>\n",
              "      <td>1572</td>\n",
              "      <td>1572</td>\n",
              "      <td>6561</td>\n",
              "      <td>102</td>\n",
              "      <td>353</td>\n",
              "      <td>27000</td>\n",
              "    </tr>\n",
              "    <tr>\n",
              "      <th>1</th>\n",
              "      <td>70000</td>\n",
              "      <td>24</td>\n",
              "      <td>61094</td>\n",
              "      <td>62483</td>\n",
              "      <td>63882</td>\n",
              "      <td>64733</td>\n",
              "      <td>66680</td>\n",
              "      <td>71243</td>\n",
              "      <td>3000</td>\n",
              "      <td>3000</td>\n",
              "      <td>2500</td>\n",
              "      <td>3000</td>\n",
              "      <td>5800</td>\n",
              "      <td>0</td>\n",
              "    </tr>\n",
              "    <tr>\n",
              "      <th>2</th>\n",
              "      <td>420000</td>\n",
              "      <td>43</td>\n",
              "      <td>8100</td>\n",
              "      <td>14270</td>\n",
              "      <td>7324</td>\n",
              "      <td>2846</td>\n",
              "      <td>3027</td>\n",
              "      <td>5946</td>\n",
              "      <td>14274</td>\n",
              "      <td>8232</td>\n",
              "      <td>2853</td>\n",
              "      <td>3027</td>\n",
              "      <td>5946</td>\n",
              "      <td>32053</td>\n",
              "    </tr>\n",
              "    <tr>\n",
              "      <th>3</th>\n",
              "      <td>30000</td>\n",
              "      <td>53</td>\n",
              "      <td>0</td>\n",
              "      <td>0</td>\n",
              "      <td>4070</td>\n",
              "      <td>3825</td>\n",
              "      <td>3825</td>\n",
              "      <td>0</td>\n",
              "      <td>0</td>\n",
              "      <td>4070</td>\n",
              "      <td>0</td>\n",
              "      <td>0</td>\n",
              "      <td>0</td>\n",
              "      <td>0</td>\n",
              "    </tr>\n",
              "    <tr>\n",
              "      <th>4</th>\n",
              "      <td>50000</td>\n",
              "      <td>49</td>\n",
              "      <td>19208</td>\n",
              "      <td>19608</td>\n",
              "      <td>22608</td>\n",
              "      <td>21951</td>\n",
              "      <td>22287</td>\n",
              "      <td>22778</td>\n",
              "      <td>1000</td>\n",
              "      <td>3321</td>\n",
              "      <td>0</td>\n",
              "      <td>1000</td>\n",
              "      <td>1000</td>\n",
              "      <td>1001</td>\n",
              "    </tr>\n",
              "  </tbody>\n",
              "</table>\n",
              "</div>"
            ],
            "text/plain": [
              "   LIMIT_BAL  AGE  BILL_AMT1  BILL_AMT2  ...  PAY_AMT3  PAY_AMT4  PAY_AMT5  PAY_AMT6\n",
              "0      50000   24       1572       1572  ...      6561       102       353     27000\n",
              "1      70000   24      61094      62483  ...      2500      3000      5800         0\n",
              "2     420000   43       8100      14270  ...      2853      3027      5946     32053\n",
              "3      30000   53          0          0  ...         0         0         0         0\n",
              "4      50000   49      19208      19608  ...         0      1000      1000      1001\n",
              "\n",
              "[5 rows x 14 columns]"
            ]
          },
          "execution_count": 39,
          "metadata": {},
          "output_type": "execute_result"
        }
      ],
      "source": [
        "# Removing all Categorical variables\n",
        "data_training_cat = data_training.drop(['SEX', 'EDUCATION', 'MARRIAGE', 'PAY_1', 'PAY_2', 'PAY_3', 'PAY_4', 'PAY_5', 'PAY_6'], axis=1)\n",
        "data_training_cat.head()"
      ]
    },
    {
      "cell_type": "code",
      "execution_count": null,
      "metadata": {
        "colab": {
          "base_uri": "https://localhost:8080/",
          "height": 206
        },
        "id": "47_ydO8JHxos",
        "outputId": "b92436a0-b54a-4b9a-c682-b56000fa0b13"
      },
      "outputs": [
        {
          "data": {
            "text/html": [
              "<div>\n",
              "<style scoped>\n",
              "    .dataframe tbody tr th:only-of-type {\n",
              "        vertical-align: middle;\n",
              "    }\n",
              "\n",
              "    .dataframe tbody tr th {\n",
              "        vertical-align: top;\n",
              "    }\n",
              "\n",
              "    .dataframe thead th {\n",
              "        text-align: right;\n",
              "    }\n",
              "</style>\n",
              "<table border=\"1\" class=\"dataframe\">\n",
              "  <thead>\n",
              "    <tr style=\"text-align: right;\">\n",
              "      <th></th>\n",
              "      <th>LIMIT_BAL</th>\n",
              "      <th>AGE</th>\n",
              "      <th>BILL_AMT1</th>\n",
              "      <th>BILL_AMT2</th>\n",
              "      <th>BILL_AMT3</th>\n",
              "      <th>BILL_AMT4</th>\n",
              "      <th>BILL_AMT5</th>\n",
              "      <th>BILL_AMT6</th>\n",
              "      <th>PAY_AMT1</th>\n",
              "      <th>PAY_AMT2</th>\n",
              "      <th>PAY_AMT3</th>\n",
              "      <th>PAY_AMT4</th>\n",
              "      <th>PAY_AMT5</th>\n",
              "      <th>PAY_AMT6</th>\n",
              "    </tr>\n",
              "  </thead>\n",
              "  <tbody>\n",
              "    <tr>\n",
              "      <th>0</th>\n",
              "      <td>80000</td>\n",
              "      <td>41</td>\n",
              "      <td>165578</td>\n",
              "      <td>153033</td>\n",
              "      <td>133017</td>\n",
              "      <td>19164</td>\n",
              "      <td>3272</td>\n",
              "      <td>11766</td>\n",
              "      <td>4351</td>\n",
              "      <td>3520</td>\n",
              "      <td>1000</td>\n",
              "      <td>3272</td>\n",
              "      <td>11766</td>\n",
              "      <td>1740</td>\n",
              "    </tr>\n",
              "    <tr>\n",
              "      <th>1</th>\n",
              "      <td>50000</td>\n",
              "      <td>35</td>\n",
              "      <td>48264</td>\n",
              "      <td>19142</td>\n",
              "      <td>18188</td>\n",
              "      <td>18397</td>\n",
              "      <td>18161</td>\n",
              "      <td>18383</td>\n",
              "      <td>1565</td>\n",
              "      <td>7240</td>\n",
              "      <td>795</td>\n",
              "      <td>1000</td>\n",
              "      <td>673</td>\n",
              "      <td>647</td>\n",
              "    </tr>\n",
              "    <tr>\n",
              "      <th>2</th>\n",
              "      <td>80000</td>\n",
              "      <td>42</td>\n",
              "      <td>18378</td>\n",
              "      <td>19377</td>\n",
              "      <td>20471</td>\n",
              "      <td>20638</td>\n",
              "      <td>21003</td>\n",
              "      <td>20529</td>\n",
              "      <td>1600</td>\n",
              "      <td>1700</td>\n",
              "      <td>800</td>\n",
              "      <td>1000</td>\n",
              "      <td>0</td>\n",
              "      <td>2000</td>\n",
              "    </tr>\n",
              "    <tr>\n",
              "      <th>3</th>\n",
              "      <td>160000</td>\n",
              "      <td>27</td>\n",
              "      <td>100613</td>\n",
              "      <td>78592</td>\n",
              "      <td>80240</td>\n",
              "      <td>39835</td>\n",
              "      <td>41150</td>\n",
              "      <td>0</td>\n",
              "      <td>3600</td>\n",
              "      <td>3700</td>\n",
              "      <td>1700</td>\n",
              "      <td>2000</td>\n",
              "      <td>0</td>\n",
              "      <td>0</td>\n",
              "    </tr>\n",
              "    <tr>\n",
              "      <th>4</th>\n",
              "      <td>30000</td>\n",
              "      <td>30</td>\n",
              "      <td>10024</td>\n",
              "      <td>12855</td>\n",
              "      <td>14634</td>\n",
              "      <td>16378</td>\n",
              "      <td>16961</td>\n",
              "      <td>19669</td>\n",
              "      <td>3000</td>\n",
              "      <td>2000</td>\n",
              "      <td>2000</td>\n",
              "      <td>1000</td>\n",
              "      <td>3000</td>\n",
              "      <td>1000</td>\n",
              "    </tr>\n",
              "  </tbody>\n",
              "</table>\n",
              "</div>"
            ],
            "text/plain": [
              "   LIMIT_BAL  AGE  BILL_AMT1  BILL_AMT2  ...  PAY_AMT3  PAY_AMT4  PAY_AMT5  PAY_AMT6\n",
              "0      80000   41     165578     153033  ...      1000      3272     11766      1740\n",
              "1      50000   35      48264      19142  ...       795      1000       673       647\n",
              "2      80000   42      18378      19377  ...       800      1000         0      2000\n",
              "3     160000   27     100613      78592  ...      1700      2000         0         0\n",
              "4      30000   30      10024      12855  ...      2000      1000      3000      1000\n",
              "\n",
              "[5 rows x 14 columns]"
            ]
          },
          "execution_count": 40,
          "metadata": {},
          "output_type": "execute_result"
        }
      ],
      "source": [
        "# Removing all Categorical variables for Test\n",
        "data_test_cat = df_test.drop(['SEX', 'EDUCATION', 'MARRIAGE', 'PAY_1', 'PAY_2', 'PAY_3', 'PAY_4', 'PAY_5', 'PAY_6'], axis=1)\n",
        "data_test_cat.head()"
      ]
    },
    {
      "cell_type": "code",
      "execution_count": null,
      "metadata": {
        "id": "LDy7C5_vH2Wc"
      },
      "outputs": [],
      "source": [
        "from sklearn.preprocessing import StandardScaler\n",
        "### WRITE CODE TO PERFORM Z-score Normalization ###\n",
        "\n",
        "# define standard scaler\n",
        "std_scaler  = StandardScaler()\n",
        "\n",
        "# transform data\n",
        "df_training_scaled = pd.DataFrame(std_scaler.fit_transform(data_training_cat), columns=data_training_cat.columns)\n",
        "df_test_scaled = pd.DataFrame(std_scaler.transform(data_test_cat), columns=data_test_cat.columns)\n",
        "\n",
        "# Using transform to apply mean and standard deviation of the training set on the test set"
      ]
    },
    {
      "cell_type": "code",
      "execution_count": null,
      "metadata": {
        "colab": {
          "base_uri": "https://localhost:8080/",
          "height": 256
        },
        "id": "TjQH0_16H7Gk",
        "outputId": "e4e8db90-9624-48e4-aa53-f0e420e7acf1"
      },
      "outputs": [
        {
          "data": {
            "text/html": [
              "<div>\n",
              "<style scoped>\n",
              "    .dataframe tbody tr th:only-of-type {\n",
              "        vertical-align: middle;\n",
              "    }\n",
              "\n",
              "    .dataframe tbody tr th {\n",
              "        vertical-align: top;\n",
              "    }\n",
              "\n",
              "    .dataframe thead th {\n",
              "        text-align: right;\n",
              "    }\n",
              "</style>\n",
              "<table border=\"1\" class=\"dataframe\">\n",
              "  <thead>\n",
              "    <tr style=\"text-align: right;\">\n",
              "      <th></th>\n",
              "      <th>PAY_1_-2</th>\n",
              "      <th>PAY_1_-1</th>\n",
              "      <th>PAY_1_0</th>\n",
              "      <th>PAY_1_1</th>\n",
              "      <th>PAY_1_2</th>\n",
              "      <th>PAY_1_3</th>\n",
              "      <th>PAY_1_4</th>\n",
              "      <th>PAY_1_5</th>\n",
              "      <th>PAY_1_6</th>\n",
              "      <th>PAY_1_7</th>\n",
              "      <th>PAY_1_8</th>\n",
              "      <th>PAY_1_9</th>\n",
              "      <th>PAY_2_-2</th>\n",
              "      <th>PAY_2_-1</th>\n",
              "      <th>PAY_2_0</th>\n",
              "      <th>PAY_2_1</th>\n",
              "      <th>PAY_2_2</th>\n",
              "      <th>PAY_2_3</th>\n",
              "      <th>PAY_2_4</th>\n",
              "      <th>PAY_2_5</th>\n",
              "      <th>PAY_2_6</th>\n",
              "      <th>PAY_2_7</th>\n",
              "      <th>PAY_2_8</th>\n",
              "      <th>PAY_2_9</th>\n",
              "      <th>PAY_3_-2</th>\n",
              "      <th>PAY_3_-1</th>\n",
              "      <th>PAY_3_0</th>\n",
              "      <th>PAY_3_1</th>\n",
              "      <th>PAY_3_2</th>\n",
              "      <th>PAY_3_3</th>\n",
              "      <th>PAY_3_4</th>\n",
              "      <th>PAY_3_5</th>\n",
              "      <th>PAY_3_6</th>\n",
              "      <th>PAY_3_7</th>\n",
              "      <th>PAY_3_8</th>\n",
              "      <th>PAY_3_9</th>\n",
              "      <th>PAY_4_-2</th>\n",
              "      <th>PAY_4_-1</th>\n",
              "      <th>PAY_4_0</th>\n",
              "      <th>PAY_4_1</th>\n",
              "      <th>...</th>\n",
              "      <th>PAY_5_7</th>\n",
              "      <th>PAY_5_8</th>\n",
              "      <th>PAY_5_9</th>\n",
              "      <th>PAY_6_-2</th>\n",
              "      <th>PAY_6_-1</th>\n",
              "      <th>PAY_6_0</th>\n",
              "      <th>PAY_6_1</th>\n",
              "      <th>PAY_6_2</th>\n",
              "      <th>PAY_6_3</th>\n",
              "      <th>PAY_6_4</th>\n",
              "      <th>PAY_6_5</th>\n",
              "      <th>PAY_6_6</th>\n",
              "      <th>PAY_6_7</th>\n",
              "      <th>PAY_6_8</th>\n",
              "      <th>PAY_6_9</th>\n",
              "      <th>SEX_1</th>\n",
              "      <th>SEX_2</th>\n",
              "      <th>EDUCATION_1</th>\n",
              "      <th>EDUCATION_2</th>\n",
              "      <th>EDUCATION_3</th>\n",
              "      <th>EDUCATION_4</th>\n",
              "      <th>EDUCATION_5</th>\n",
              "      <th>EDUCATION_6</th>\n",
              "      <th>MARRIAGE_1</th>\n",
              "      <th>MARRIAGE_2</th>\n",
              "      <th>MARRIAGE_3</th>\n",
              "      <th>LIMIT_BAL</th>\n",
              "      <th>AGE</th>\n",
              "      <th>BILL_AMT1</th>\n",
              "      <th>BILL_AMT2</th>\n",
              "      <th>BILL_AMT3</th>\n",
              "      <th>BILL_AMT4</th>\n",
              "      <th>BILL_AMT5</th>\n",
              "      <th>BILL_AMT6</th>\n",
              "      <th>PAY_AMT1</th>\n",
              "      <th>PAY_AMT2</th>\n",
              "      <th>PAY_AMT3</th>\n",
              "      <th>PAY_AMT4</th>\n",
              "      <th>PAY_AMT5</th>\n",
              "      <th>PAY_AMT6</th>\n",
              "    </tr>\n",
              "  </thead>\n",
              "  <tbody>\n",
              "    <tr>\n",
              "      <th>0</th>\n",
              "      <td>0.0</td>\n",
              "      <td>1.0</td>\n",
              "      <td>0.0</td>\n",
              "      <td>0.0</td>\n",
              "      <td>0.0</td>\n",
              "      <td>0.0</td>\n",
              "      <td>0.0</td>\n",
              "      <td>0.0</td>\n",
              "      <td>0.0</td>\n",
              "      <td>0.0</td>\n",
              "      <td>0.0</td>\n",
              "      <td>0.0</td>\n",
              "      <td>0.0</td>\n",
              "      <td>1.0</td>\n",
              "      <td>0.0</td>\n",
              "      <td>0.0</td>\n",
              "      <td>0.0</td>\n",
              "      <td>0.0</td>\n",
              "      <td>0.0</td>\n",
              "      <td>0.0</td>\n",
              "      <td>0.0</td>\n",
              "      <td>0.0</td>\n",
              "      <td>0.0</td>\n",
              "      <td>0.0</td>\n",
              "      <td>0.0</td>\n",
              "      <td>1.0</td>\n",
              "      <td>0.0</td>\n",
              "      <td>0.0</td>\n",
              "      <td>0.0</td>\n",
              "      <td>0.0</td>\n",
              "      <td>0.0</td>\n",
              "      <td>0.0</td>\n",
              "      <td>0.0</td>\n",
              "      <td>0.0</td>\n",
              "      <td>0.0</td>\n",
              "      <td>0.0</td>\n",
              "      <td>0.0</td>\n",
              "      <td>1.0</td>\n",
              "      <td>0.0</td>\n",
              "      <td>0.0</td>\n",
              "      <td>...</td>\n",
              "      <td>0.0</td>\n",
              "      <td>0.0</td>\n",
              "      <td>0.0</td>\n",
              "      <td>0.0</td>\n",
              "      <td>1.0</td>\n",
              "      <td>0.0</td>\n",
              "      <td>0.0</td>\n",
              "      <td>0.0</td>\n",
              "      <td>0.0</td>\n",
              "      <td>0.0</td>\n",
              "      <td>0.0</td>\n",
              "      <td>0.0</td>\n",
              "      <td>0.0</td>\n",
              "      <td>0.0</td>\n",
              "      <td>0.0</td>\n",
              "      <td>0.0</td>\n",
              "      <td>1.0</td>\n",
              "      <td>0.0</td>\n",
              "      <td>1.0</td>\n",
              "      <td>0.0</td>\n",
              "      <td>0.0</td>\n",
              "      <td>0.0</td>\n",
              "      <td>0.0</td>\n",
              "      <td>0.0</td>\n",
              "      <td>1.0</td>\n",
              "      <td>0.0</td>\n",
              "      <td>-0.902690</td>\n",
              "      <td>-1.237370</td>\n",
              "      <td>-0.659401</td>\n",
              "      <td>-0.657623</td>\n",
              "      <td>-0.653395</td>\n",
              "      <td>-0.558590</td>\n",
              "      <td>-0.564919</td>\n",
              "      <td>-0.630095</td>\n",
              "      <td>-0.264370</td>\n",
              "      <td>-0.244519</td>\n",
              "      <td>0.071315</td>\n",
              "      <td>-0.262679</td>\n",
              "      <td>-0.267721</td>\n",
              "      <td>1.270320</td>\n",
              "    </tr>\n",
              "    <tr>\n",
              "      <th>1</th>\n",
              "      <td>0.0</td>\n",
              "      <td>0.0</td>\n",
              "      <td>1.0</td>\n",
              "      <td>0.0</td>\n",
              "      <td>0.0</td>\n",
              "      <td>0.0</td>\n",
              "      <td>0.0</td>\n",
              "      <td>0.0</td>\n",
              "      <td>0.0</td>\n",
              "      <td>0.0</td>\n",
              "      <td>0.0</td>\n",
              "      <td>0.0</td>\n",
              "      <td>0.0</td>\n",
              "      <td>0.0</td>\n",
              "      <td>1.0</td>\n",
              "      <td>0.0</td>\n",
              "      <td>0.0</td>\n",
              "      <td>0.0</td>\n",
              "      <td>0.0</td>\n",
              "      <td>0.0</td>\n",
              "      <td>0.0</td>\n",
              "      <td>0.0</td>\n",
              "      <td>0.0</td>\n",
              "      <td>0.0</td>\n",
              "      <td>0.0</td>\n",
              "      <td>0.0</td>\n",
              "      <td>1.0</td>\n",
              "      <td>0.0</td>\n",
              "      <td>0.0</td>\n",
              "      <td>0.0</td>\n",
              "      <td>0.0</td>\n",
              "      <td>0.0</td>\n",
              "      <td>0.0</td>\n",
              "      <td>0.0</td>\n",
              "      <td>0.0</td>\n",
              "      <td>0.0</td>\n",
              "      <td>0.0</td>\n",
              "      <td>0.0</td>\n",
              "      <td>1.0</td>\n",
              "      <td>0.0</td>\n",
              "      <td>...</td>\n",
              "      <td>0.0</td>\n",
              "      <td>0.0</td>\n",
              "      <td>0.0</td>\n",
              "      <td>0.0</td>\n",
              "      <td>0.0</td>\n",
              "      <td>1.0</td>\n",
              "      <td>0.0</td>\n",
              "      <td>0.0</td>\n",
              "      <td>0.0</td>\n",
              "      <td>0.0</td>\n",
              "      <td>0.0</td>\n",
              "      <td>0.0</td>\n",
              "      <td>0.0</td>\n",
              "      <td>0.0</td>\n",
              "      <td>0.0</td>\n",
              "      <td>0.0</td>\n",
              "      <td>1.0</td>\n",
              "      <td>0.0</td>\n",
              "      <td>1.0</td>\n",
              "      <td>0.0</td>\n",
              "      <td>0.0</td>\n",
              "      <td>0.0</td>\n",
              "      <td>0.0</td>\n",
              "      <td>0.0</td>\n",
              "      <td>1.0</td>\n",
              "      <td>0.0</td>\n",
              "      <td>-0.751263</td>\n",
              "      <td>-1.237370</td>\n",
              "      <td>0.123571</td>\n",
              "      <td>0.174192</td>\n",
              "      <td>0.222944</td>\n",
              "      <td>0.299113</td>\n",
              "      <td>0.397532</td>\n",
              "      <td>0.500862</td>\n",
              "      <td>-0.175510</td>\n",
              "      <td>-0.171175</td>\n",
              "      <td>-0.178872</td>\n",
              "      <td>-0.109918</td>\n",
              "      <td>0.049149</td>\n",
              "      <td>-0.300705</td>\n",
              "    </tr>\n",
              "    <tr>\n",
              "      <th>2</th>\n",
              "      <td>1.0</td>\n",
              "      <td>0.0</td>\n",
              "      <td>0.0</td>\n",
              "      <td>0.0</td>\n",
              "      <td>0.0</td>\n",
              "      <td>0.0</td>\n",
              "      <td>0.0</td>\n",
              "      <td>0.0</td>\n",
              "      <td>0.0</td>\n",
              "      <td>0.0</td>\n",
              "      <td>0.0</td>\n",
              "      <td>0.0</td>\n",
              "      <td>1.0</td>\n",
              "      <td>0.0</td>\n",
              "      <td>0.0</td>\n",
              "      <td>0.0</td>\n",
              "      <td>0.0</td>\n",
              "      <td>0.0</td>\n",
              "      <td>0.0</td>\n",
              "      <td>0.0</td>\n",
              "      <td>0.0</td>\n",
              "      <td>0.0</td>\n",
              "      <td>0.0</td>\n",
              "      <td>0.0</td>\n",
              "      <td>1.0</td>\n",
              "      <td>0.0</td>\n",
              "      <td>0.0</td>\n",
              "      <td>0.0</td>\n",
              "      <td>0.0</td>\n",
              "      <td>0.0</td>\n",
              "      <td>0.0</td>\n",
              "      <td>0.0</td>\n",
              "      <td>0.0</td>\n",
              "      <td>0.0</td>\n",
              "      <td>0.0</td>\n",
              "      <td>0.0</td>\n",
              "      <td>1.0</td>\n",
              "      <td>0.0</td>\n",
              "      <td>0.0</td>\n",
              "      <td>0.0</td>\n",
              "      <td>...</td>\n",
              "      <td>0.0</td>\n",
              "      <td>0.0</td>\n",
              "      <td>0.0</td>\n",
              "      <td>1.0</td>\n",
              "      <td>0.0</td>\n",
              "      <td>0.0</td>\n",
              "      <td>0.0</td>\n",
              "      <td>0.0</td>\n",
              "      <td>0.0</td>\n",
              "      <td>0.0</td>\n",
              "      <td>0.0</td>\n",
              "      <td>0.0</td>\n",
              "      <td>0.0</td>\n",
              "      <td>0.0</td>\n",
              "      <td>0.0</td>\n",
              "      <td>1.0</td>\n",
              "      <td>0.0</td>\n",
              "      <td>1.0</td>\n",
              "      <td>0.0</td>\n",
              "      <td>0.0</td>\n",
              "      <td>0.0</td>\n",
              "      <td>0.0</td>\n",
              "      <td>0.0</td>\n",
              "      <td>1.0</td>\n",
              "      <td>0.0</td>\n",
              "      <td>0.0</td>\n",
              "      <td>1.898720</td>\n",
              "      <td>0.816144</td>\n",
              "      <td>-0.573530</td>\n",
              "      <td>-0.484216</td>\n",
              "      <td>-0.572498</td>\n",
              "      <td>-0.613365</td>\n",
              "      <td>-0.597173</td>\n",
              "      <td>-0.540866</td>\n",
              "      <td>0.526037</td>\n",
              "      <td>0.097548</td>\n",
              "      <td>-0.157124</td>\n",
              "      <td>-0.108494</td>\n",
              "      <td>0.057642</td>\n",
              "      <td>1.564334</td>\n",
              "    </tr>\n",
              "    <tr>\n",
              "      <th>3</th>\n",
              "      <td>0.0</td>\n",
              "      <td>0.0</td>\n",
              "      <td>0.0</td>\n",
              "      <td>1.0</td>\n",
              "      <td>0.0</td>\n",
              "      <td>0.0</td>\n",
              "      <td>0.0</td>\n",
              "      <td>0.0</td>\n",
              "      <td>0.0</td>\n",
              "      <td>0.0</td>\n",
              "      <td>0.0</td>\n",
              "      <td>0.0</td>\n",
              "      <td>1.0</td>\n",
              "      <td>0.0</td>\n",
              "      <td>0.0</td>\n",
              "      <td>0.0</td>\n",
              "      <td>0.0</td>\n",
              "      <td>0.0</td>\n",
              "      <td>0.0</td>\n",
              "      <td>0.0</td>\n",
              "      <td>0.0</td>\n",
              "      <td>0.0</td>\n",
              "      <td>0.0</td>\n",
              "      <td>0.0</td>\n",
              "      <td>0.0</td>\n",
              "      <td>1.0</td>\n",
              "      <td>0.0</td>\n",
              "      <td>0.0</td>\n",
              "      <td>0.0</td>\n",
              "      <td>0.0</td>\n",
              "      <td>0.0</td>\n",
              "      <td>0.0</td>\n",
              "      <td>0.0</td>\n",
              "      <td>0.0</td>\n",
              "      <td>0.0</td>\n",
              "      <td>0.0</td>\n",
              "      <td>0.0</td>\n",
              "      <td>0.0</td>\n",
              "      <td>0.0</td>\n",
              "      <td>0.0</td>\n",
              "      <td>...</td>\n",
              "      <td>0.0</td>\n",
              "      <td>0.0</td>\n",
              "      <td>0.0</td>\n",
              "      <td>0.0</td>\n",
              "      <td>0.0</td>\n",
              "      <td>1.0</td>\n",
              "      <td>0.0</td>\n",
              "      <td>0.0</td>\n",
              "      <td>0.0</td>\n",
              "      <td>0.0</td>\n",
              "      <td>0.0</td>\n",
              "      <td>0.0</td>\n",
              "      <td>0.0</td>\n",
              "      <td>0.0</td>\n",
              "      <td>0.0</td>\n",
              "      <td>1.0</td>\n",
              "      <td>0.0</td>\n",
              "      <td>0.0</td>\n",
              "      <td>1.0</td>\n",
              "      <td>0.0</td>\n",
              "      <td>0.0</td>\n",
              "      <td>0.0</td>\n",
              "      <td>0.0</td>\n",
              "      <td>0.0</td>\n",
              "      <td>0.0</td>\n",
              "      <td>1.0</td>\n",
              "      <td>-1.054118</td>\n",
              "      <td>1.896941</td>\n",
              "      <td>-0.680080</td>\n",
              "      <td>-0.679090</td>\n",
              "      <td>-0.618263</td>\n",
              "      <td>-0.598931</td>\n",
              "      <td>-0.584702</td>\n",
              "      <td>-0.635727</td>\n",
              "      <td>-0.362190</td>\n",
              "      <td>-0.116218</td>\n",
              "      <td>-0.332890</td>\n",
              "      <td>-0.268056</td>\n",
              "      <td>-0.288256</td>\n",
              "      <td>-0.300705</td>\n",
              "    </tr>\n",
              "    <tr>\n",
              "      <th>4</th>\n",
              "      <td>0.0</td>\n",
              "      <td>0.0</td>\n",
              "      <td>0.0</td>\n",
              "      <td>1.0</td>\n",
              "      <td>0.0</td>\n",
              "      <td>0.0</td>\n",
              "      <td>0.0</td>\n",
              "      <td>0.0</td>\n",
              "      <td>0.0</td>\n",
              "      <td>0.0</td>\n",
              "      <td>0.0</td>\n",
              "      <td>0.0</td>\n",
              "      <td>0.0</td>\n",
              "      <td>0.0</td>\n",
              "      <td>0.0</td>\n",
              "      <td>0.0</td>\n",
              "      <td>1.0</td>\n",
              "      <td>0.0</td>\n",
              "      <td>0.0</td>\n",
              "      <td>0.0</td>\n",
              "      <td>0.0</td>\n",
              "      <td>0.0</td>\n",
              "      <td>0.0</td>\n",
              "      <td>0.0</td>\n",
              "      <td>0.0</td>\n",
              "      <td>0.0</td>\n",
              "      <td>0.0</td>\n",
              "      <td>0.0</td>\n",
              "      <td>1.0</td>\n",
              "      <td>0.0</td>\n",
              "      <td>0.0</td>\n",
              "      <td>0.0</td>\n",
              "      <td>0.0</td>\n",
              "      <td>0.0</td>\n",
              "      <td>0.0</td>\n",
              "      <td>0.0</td>\n",
              "      <td>0.0</td>\n",
              "      <td>0.0</td>\n",
              "      <td>0.0</td>\n",
              "      <td>0.0</td>\n",
              "      <td>...</td>\n",
              "      <td>0.0</td>\n",
              "      <td>0.0</td>\n",
              "      <td>0.0</td>\n",
              "      <td>0.0</td>\n",
              "      <td>0.0</td>\n",
              "      <td>1.0</td>\n",
              "      <td>0.0</td>\n",
              "      <td>0.0</td>\n",
              "      <td>0.0</td>\n",
              "      <td>0.0</td>\n",
              "      <td>0.0</td>\n",
              "      <td>0.0</td>\n",
              "      <td>0.0</td>\n",
              "      <td>0.0</td>\n",
              "      <td>0.0</td>\n",
              "      <td>0.0</td>\n",
              "      <td>1.0</td>\n",
              "      <td>0.0</td>\n",
              "      <td>1.0</td>\n",
              "      <td>0.0</td>\n",
              "      <td>0.0</td>\n",
              "      <td>0.0</td>\n",
              "      <td>0.0</td>\n",
              "      <td>1.0</td>\n",
              "      <td>0.0</td>\n",
              "      <td>0.0</td>\n",
              "      <td>-0.902690</td>\n",
              "      <td>1.464622</td>\n",
              "      <td>-0.427412</td>\n",
              "      <td>-0.411319</td>\n",
              "      <td>-0.357541</td>\n",
              "      <td>-0.331676</td>\n",
              "      <td>-0.296197</td>\n",
              "      <td>-0.272334</td>\n",
              "      <td>-0.299963</td>\n",
              "      <td>-0.154688</td>\n",
              "      <td>-0.332890</td>\n",
              "      <td>-0.215343</td>\n",
              "      <td>-0.230083</td>\n",
              "      <td>-0.242460</td>\n",
              "    </tr>\n",
              "  </tbody>\n",
              "</table>\n",
              "<p>5 rows × 97 columns</p>\n",
              "</div>"
            ],
            "text/plain": [
              "   PAY_1_-2  PAY_1_-1  PAY_1_0  PAY_1_1  ...  PAY_AMT3  PAY_AMT4  PAY_AMT5  PAY_AMT6\n",
              "0       0.0       1.0      0.0      0.0  ...  0.071315 -0.262679 -0.267721  1.270320\n",
              "1       0.0       0.0      1.0      0.0  ... -0.178872 -0.109918  0.049149 -0.300705\n",
              "2       1.0       0.0      0.0      0.0  ... -0.157124 -0.108494  0.057642  1.564334\n",
              "3       0.0       0.0      0.0      1.0  ... -0.332890 -0.268056 -0.288256 -0.300705\n",
              "4       0.0       0.0      0.0      1.0  ... -0.332890 -0.215343 -0.230083 -0.242460\n",
              "\n",
              "[5 rows x 97 columns]"
            ]
          },
          "execution_count": 42,
          "metadata": {},
          "output_type": "execute_result"
        }
      ],
      "source": [
        "X = pd.concat([X_training_credit_enc_pay,train_enc_cat,df_training_scaled], axis=1)\n",
        "X.head()"
      ]
    },
    {
      "cell_type": "code",
      "execution_count": null,
      "metadata": {
        "colab": {
          "base_uri": "https://localhost:8080/",
          "height": 256
        },
        "id": "vi_rmL0eH-ak",
        "outputId": "f153b41c-99df-489f-e5a6-4d214a221c0e"
      },
      "outputs": [
        {
          "data": {
            "text/html": [
              "<div>\n",
              "<style scoped>\n",
              "    .dataframe tbody tr th:only-of-type {\n",
              "        vertical-align: middle;\n",
              "    }\n",
              "\n",
              "    .dataframe tbody tr th {\n",
              "        vertical-align: top;\n",
              "    }\n",
              "\n",
              "    .dataframe thead th {\n",
              "        text-align: right;\n",
              "    }\n",
              "</style>\n",
              "<table border=\"1\" class=\"dataframe\">\n",
              "  <thead>\n",
              "    <tr style=\"text-align: right;\">\n",
              "      <th></th>\n",
              "      <th>PAY_1_-2</th>\n",
              "      <th>PAY_1_-1</th>\n",
              "      <th>PAY_1_0</th>\n",
              "      <th>PAY_1_1</th>\n",
              "      <th>PAY_1_2</th>\n",
              "      <th>PAY_1_3</th>\n",
              "      <th>PAY_1_4</th>\n",
              "      <th>PAY_1_5</th>\n",
              "      <th>PAY_1_6</th>\n",
              "      <th>PAY_1_7</th>\n",
              "      <th>PAY_1_8</th>\n",
              "      <th>PAY_1_9</th>\n",
              "      <th>PAY_2_-2</th>\n",
              "      <th>PAY_2_-1</th>\n",
              "      <th>PAY_2_0</th>\n",
              "      <th>PAY_2_1</th>\n",
              "      <th>PAY_2_2</th>\n",
              "      <th>PAY_2_3</th>\n",
              "      <th>PAY_2_4</th>\n",
              "      <th>PAY_2_5</th>\n",
              "      <th>PAY_2_6</th>\n",
              "      <th>PAY_2_7</th>\n",
              "      <th>PAY_2_8</th>\n",
              "      <th>PAY_2_9</th>\n",
              "      <th>PAY_3_-2</th>\n",
              "      <th>PAY_3_-1</th>\n",
              "      <th>PAY_3_0</th>\n",
              "      <th>PAY_3_1</th>\n",
              "      <th>PAY_3_2</th>\n",
              "      <th>PAY_3_3</th>\n",
              "      <th>PAY_3_4</th>\n",
              "      <th>PAY_3_5</th>\n",
              "      <th>PAY_3_6</th>\n",
              "      <th>PAY_3_7</th>\n",
              "      <th>PAY_3_8</th>\n",
              "      <th>PAY_3_9</th>\n",
              "      <th>PAY_4_-2</th>\n",
              "      <th>PAY_4_-1</th>\n",
              "      <th>PAY_4_0</th>\n",
              "      <th>PAY_4_1</th>\n",
              "      <th>...</th>\n",
              "      <th>PAY_5_7</th>\n",
              "      <th>PAY_5_8</th>\n",
              "      <th>PAY_5_9</th>\n",
              "      <th>PAY_6_-2</th>\n",
              "      <th>PAY_6_-1</th>\n",
              "      <th>PAY_6_0</th>\n",
              "      <th>PAY_6_1</th>\n",
              "      <th>PAY_6_2</th>\n",
              "      <th>PAY_6_3</th>\n",
              "      <th>PAY_6_4</th>\n",
              "      <th>PAY_6_5</th>\n",
              "      <th>PAY_6_6</th>\n",
              "      <th>PAY_6_7</th>\n",
              "      <th>PAY_6_8</th>\n",
              "      <th>PAY_6_9</th>\n",
              "      <th>SEX_1</th>\n",
              "      <th>SEX_2</th>\n",
              "      <th>EDUCATION_1</th>\n",
              "      <th>EDUCATION_2</th>\n",
              "      <th>EDUCATION_3</th>\n",
              "      <th>EDUCATION_4</th>\n",
              "      <th>EDUCATION_5</th>\n",
              "      <th>EDUCATION_6</th>\n",
              "      <th>MARRIAGE_1</th>\n",
              "      <th>MARRIAGE_2</th>\n",
              "      <th>MARRIAGE_3</th>\n",
              "      <th>LIMIT_BAL</th>\n",
              "      <th>AGE</th>\n",
              "      <th>BILL_AMT1</th>\n",
              "      <th>BILL_AMT2</th>\n",
              "      <th>BILL_AMT3</th>\n",
              "      <th>BILL_AMT4</th>\n",
              "      <th>BILL_AMT5</th>\n",
              "      <th>BILL_AMT6</th>\n",
              "      <th>PAY_AMT1</th>\n",
              "      <th>PAY_AMT2</th>\n",
              "      <th>PAY_AMT3</th>\n",
              "      <th>PAY_AMT4</th>\n",
              "      <th>PAY_AMT5</th>\n",
              "      <th>PAY_AMT6</th>\n",
              "    </tr>\n",
              "  </thead>\n",
              "  <tbody>\n",
              "    <tr>\n",
              "      <th>0</th>\n",
              "      <td>0.0</td>\n",
              "      <td>0.0</td>\n",
              "      <td>1.0</td>\n",
              "      <td>0.0</td>\n",
              "      <td>0.0</td>\n",
              "      <td>0.0</td>\n",
              "      <td>0.0</td>\n",
              "      <td>0.0</td>\n",
              "      <td>0.0</td>\n",
              "      <td>0.0</td>\n",
              "      <td>0.0</td>\n",
              "      <td>0.0</td>\n",
              "      <td>0.0</td>\n",
              "      <td>0.0</td>\n",
              "      <td>1.0</td>\n",
              "      <td>0.0</td>\n",
              "      <td>0.0</td>\n",
              "      <td>0.0</td>\n",
              "      <td>0.0</td>\n",
              "      <td>0.0</td>\n",
              "      <td>0.0</td>\n",
              "      <td>0.0</td>\n",
              "      <td>0.0</td>\n",
              "      <td>0.0</td>\n",
              "      <td>0.0</td>\n",
              "      <td>0.0</td>\n",
              "      <td>1.0</td>\n",
              "      <td>0.0</td>\n",
              "      <td>0.0</td>\n",
              "      <td>0.0</td>\n",
              "      <td>0.0</td>\n",
              "      <td>0.0</td>\n",
              "      <td>0.0</td>\n",
              "      <td>0.0</td>\n",
              "      <td>0.0</td>\n",
              "      <td>0.0</td>\n",
              "      <td>0.0</td>\n",
              "      <td>0.0</td>\n",
              "      <td>1.0</td>\n",
              "      <td>0.0</td>\n",
              "      <td>...</td>\n",
              "      <td>0.0</td>\n",
              "      <td>0.0</td>\n",
              "      <td>0.0</td>\n",
              "      <td>0.0</td>\n",
              "      <td>1.0</td>\n",
              "      <td>0.0</td>\n",
              "      <td>0.0</td>\n",
              "      <td>0.0</td>\n",
              "      <td>0.0</td>\n",
              "      <td>0.0</td>\n",
              "      <td>0.0</td>\n",
              "      <td>0.0</td>\n",
              "      <td>0.0</td>\n",
              "      <td>0.0</td>\n",
              "      <td>0.0</td>\n",
              "      <td>1.0</td>\n",
              "      <td>0.0</td>\n",
              "      <td>0.0</td>\n",
              "      <td>0.0</td>\n",
              "      <td>0.0</td>\n",
              "      <td>0.0</td>\n",
              "      <td>0.0</td>\n",
              "      <td>1.0</td>\n",
              "      <td>1.0</td>\n",
              "      <td>0.0</td>\n",
              "      <td>0.0</td>\n",
              "      <td>-0.675549</td>\n",
              "      <td>0.599985</td>\n",
              "      <td>1.497990</td>\n",
              "      <td>1.410763</td>\n",
              "      <td>1.195271</td>\n",
              "      <td>-0.372768</td>\n",
              "      <td>-0.593344</td>\n",
              "      <td>-0.448016</td>\n",
              "      <td>-0.091441</td>\n",
              "      <td>-0.144467</td>\n",
              "      <td>-0.271283</td>\n",
              "      <td>-0.095580</td>\n",
              "      <td>0.396210</td>\n",
              "      <td>-0.199461</td>\n",
              "    </tr>\n",
              "    <tr>\n",
              "      <th>1</th>\n",
              "      <td>0.0</td>\n",
              "      <td>0.0</td>\n",
              "      <td>1.0</td>\n",
              "      <td>0.0</td>\n",
              "      <td>0.0</td>\n",
              "      <td>0.0</td>\n",
              "      <td>0.0</td>\n",
              "      <td>0.0</td>\n",
              "      <td>0.0</td>\n",
              "      <td>0.0</td>\n",
              "      <td>0.0</td>\n",
              "      <td>0.0</td>\n",
              "      <td>0.0</td>\n",
              "      <td>0.0</td>\n",
              "      <td>1.0</td>\n",
              "      <td>0.0</td>\n",
              "      <td>0.0</td>\n",
              "      <td>0.0</td>\n",
              "      <td>0.0</td>\n",
              "      <td>0.0</td>\n",
              "      <td>0.0</td>\n",
              "      <td>0.0</td>\n",
              "      <td>0.0</td>\n",
              "      <td>0.0</td>\n",
              "      <td>0.0</td>\n",
              "      <td>0.0</td>\n",
              "      <td>1.0</td>\n",
              "      <td>0.0</td>\n",
              "      <td>0.0</td>\n",
              "      <td>0.0</td>\n",
              "      <td>0.0</td>\n",
              "      <td>0.0</td>\n",
              "      <td>0.0</td>\n",
              "      <td>0.0</td>\n",
              "      <td>0.0</td>\n",
              "      <td>0.0</td>\n",
              "      <td>0.0</td>\n",
              "      <td>0.0</td>\n",
              "      <td>1.0</td>\n",
              "      <td>0.0</td>\n",
              "      <td>...</td>\n",
              "      <td>0.0</td>\n",
              "      <td>0.0</td>\n",
              "      <td>0.0</td>\n",
              "      <td>0.0</td>\n",
              "      <td>0.0</td>\n",
              "      <td>1.0</td>\n",
              "      <td>0.0</td>\n",
              "      <td>0.0</td>\n",
              "      <td>0.0</td>\n",
              "      <td>0.0</td>\n",
              "      <td>0.0</td>\n",
              "      <td>0.0</td>\n",
              "      <td>0.0</td>\n",
              "      <td>0.0</td>\n",
              "      <td>0.0</td>\n",
              "      <td>1.0</td>\n",
              "      <td>0.0</td>\n",
              "      <td>1.0</td>\n",
              "      <td>0.0</td>\n",
              "      <td>0.0</td>\n",
              "      <td>0.0</td>\n",
              "      <td>0.0</td>\n",
              "      <td>0.0</td>\n",
              "      <td>0.0</td>\n",
              "      <td>1.0</td>\n",
              "      <td>0.0</td>\n",
              "      <td>-0.902690</td>\n",
              "      <td>-0.048493</td>\n",
              "      <td>-0.045199</td>\n",
              "      <td>-0.417683</td>\n",
              "      <td>-0.419705</td>\n",
              "      <td>-0.384077</td>\n",
              "      <td>-0.360674</td>\n",
              "      <td>-0.342450</td>\n",
              "      <td>-0.264805</td>\n",
              "      <td>0.046597</td>\n",
              "      <td>-0.283912</td>\n",
              "      <td>-0.215343</td>\n",
              "      <td>-0.249106</td>\n",
              "      <td>-0.263058</td>\n",
              "    </tr>\n",
              "    <tr>\n",
              "      <th>2</th>\n",
              "      <td>0.0</td>\n",
              "      <td>0.0</td>\n",
              "      <td>0.0</td>\n",
              "      <td>0.0</td>\n",
              "      <td>1.0</td>\n",
              "      <td>0.0</td>\n",
              "      <td>0.0</td>\n",
              "      <td>0.0</td>\n",
              "      <td>0.0</td>\n",
              "      <td>0.0</td>\n",
              "      <td>0.0</td>\n",
              "      <td>0.0</td>\n",
              "      <td>0.0</td>\n",
              "      <td>0.0</td>\n",
              "      <td>0.0</td>\n",
              "      <td>0.0</td>\n",
              "      <td>1.0</td>\n",
              "      <td>0.0</td>\n",
              "      <td>0.0</td>\n",
              "      <td>0.0</td>\n",
              "      <td>0.0</td>\n",
              "      <td>0.0</td>\n",
              "      <td>0.0</td>\n",
              "      <td>0.0</td>\n",
              "      <td>0.0</td>\n",
              "      <td>0.0</td>\n",
              "      <td>0.0</td>\n",
              "      <td>0.0</td>\n",
              "      <td>1.0</td>\n",
              "      <td>0.0</td>\n",
              "      <td>0.0</td>\n",
              "      <td>0.0</td>\n",
              "      <td>0.0</td>\n",
              "      <td>0.0</td>\n",
              "      <td>0.0</td>\n",
              "      <td>0.0</td>\n",
              "      <td>0.0</td>\n",
              "      <td>0.0</td>\n",
              "      <td>0.0</td>\n",
              "      <td>0.0</td>\n",
              "      <td>...</td>\n",
              "      <td>0.0</td>\n",
              "      <td>0.0</td>\n",
              "      <td>0.0</td>\n",
              "      <td>0.0</td>\n",
              "      <td>0.0</td>\n",
              "      <td>0.0</td>\n",
              "      <td>0.0</td>\n",
              "      <td>1.0</td>\n",
              "      <td>0.0</td>\n",
              "      <td>0.0</td>\n",
              "      <td>0.0</td>\n",
              "      <td>0.0</td>\n",
              "      <td>0.0</td>\n",
              "      <td>0.0</td>\n",
              "      <td>0.0</td>\n",
              "      <td>0.0</td>\n",
              "      <td>1.0</td>\n",
              "      <td>1.0</td>\n",
              "      <td>0.0</td>\n",
              "      <td>0.0</td>\n",
              "      <td>0.0</td>\n",
              "      <td>0.0</td>\n",
              "      <td>0.0</td>\n",
              "      <td>1.0</td>\n",
              "      <td>0.0</td>\n",
              "      <td>0.0</td>\n",
              "      <td>-0.675549</td>\n",
              "      <td>0.708064</td>\n",
              "      <td>-0.438330</td>\n",
              "      <td>-0.414473</td>\n",
              "      <td>-0.387596</td>\n",
              "      <td>-0.351035</td>\n",
              "      <td>-0.316262</td>\n",
              "      <td>-0.308213</td>\n",
              "      <td>-0.262627</td>\n",
              "      <td>-0.237945</td>\n",
              "      <td>-0.283604</td>\n",
              "      <td>-0.215343</td>\n",
              "      <td>-0.288256</td>\n",
              "      <td>-0.184332</td>\n",
              "    </tr>\n",
              "    <tr>\n",
              "      <th>3</th>\n",
              "      <td>0.0</td>\n",
              "      <td>0.0</td>\n",
              "      <td>1.0</td>\n",
              "      <td>0.0</td>\n",
              "      <td>0.0</td>\n",
              "      <td>0.0</td>\n",
              "      <td>0.0</td>\n",
              "      <td>0.0</td>\n",
              "      <td>0.0</td>\n",
              "      <td>0.0</td>\n",
              "      <td>0.0</td>\n",
              "      <td>0.0</td>\n",
              "      <td>0.0</td>\n",
              "      <td>0.0</td>\n",
              "      <td>1.0</td>\n",
              "      <td>0.0</td>\n",
              "      <td>0.0</td>\n",
              "      <td>0.0</td>\n",
              "      <td>0.0</td>\n",
              "      <td>0.0</td>\n",
              "      <td>0.0</td>\n",
              "      <td>0.0</td>\n",
              "      <td>0.0</td>\n",
              "      <td>0.0</td>\n",
              "      <td>0.0</td>\n",
              "      <td>0.0</td>\n",
              "      <td>1.0</td>\n",
              "      <td>0.0</td>\n",
              "      <td>0.0</td>\n",
              "      <td>0.0</td>\n",
              "      <td>0.0</td>\n",
              "      <td>0.0</td>\n",
              "      <td>0.0</td>\n",
              "      <td>0.0</td>\n",
              "      <td>0.0</td>\n",
              "      <td>0.0</td>\n",
              "      <td>0.0</td>\n",
              "      <td>0.0</td>\n",
              "      <td>1.0</td>\n",
              "      <td>0.0</td>\n",
              "      <td>...</td>\n",
              "      <td>0.0</td>\n",
              "      <td>0.0</td>\n",
              "      <td>0.0</td>\n",
              "      <td>0.0</td>\n",
              "      <td>0.0</td>\n",
              "      <td>1.0</td>\n",
              "      <td>0.0</td>\n",
              "      <td>0.0</td>\n",
              "      <td>0.0</td>\n",
              "      <td>0.0</td>\n",
              "      <td>0.0</td>\n",
              "      <td>0.0</td>\n",
              "      <td>0.0</td>\n",
              "      <td>0.0</td>\n",
              "      <td>0.0</td>\n",
              "      <td>0.0</td>\n",
              "      <td>1.0</td>\n",
              "      <td>0.0</td>\n",
              "      <td>1.0</td>\n",
              "      <td>0.0</td>\n",
              "      <td>0.0</td>\n",
              "      <td>0.0</td>\n",
              "      <td>0.0</td>\n",
              "      <td>0.0</td>\n",
              "      <td>1.0</td>\n",
              "      <td>0.0</td>\n",
              "      <td>-0.069838</td>\n",
              "      <td>-0.913131</td>\n",
              "      <td>0.643418</td>\n",
              "      <td>0.394180</td>\n",
              "      <td>0.453006</td>\n",
              "      <td>-0.067989</td>\n",
              "      <td>-0.001425</td>\n",
              "      <td>-0.635727</td>\n",
              "      <td>-0.138173</td>\n",
              "      <td>-0.135222</td>\n",
              "      <td>-0.228158</td>\n",
              "      <td>-0.162630</td>\n",
              "      <td>-0.288256</td>\n",
              "      <td>-0.300705</td>\n",
              "    </tr>\n",
              "    <tr>\n",
              "      <th>4</th>\n",
              "      <td>0.0</td>\n",
              "      <td>0.0</td>\n",
              "      <td>1.0</td>\n",
              "      <td>0.0</td>\n",
              "      <td>0.0</td>\n",
              "      <td>0.0</td>\n",
              "      <td>0.0</td>\n",
              "      <td>0.0</td>\n",
              "      <td>0.0</td>\n",
              "      <td>0.0</td>\n",
              "      <td>0.0</td>\n",
              "      <td>0.0</td>\n",
              "      <td>0.0</td>\n",
              "      <td>0.0</td>\n",
              "      <td>1.0</td>\n",
              "      <td>0.0</td>\n",
              "      <td>0.0</td>\n",
              "      <td>0.0</td>\n",
              "      <td>0.0</td>\n",
              "      <td>0.0</td>\n",
              "      <td>0.0</td>\n",
              "      <td>0.0</td>\n",
              "      <td>0.0</td>\n",
              "      <td>0.0</td>\n",
              "      <td>0.0</td>\n",
              "      <td>0.0</td>\n",
              "      <td>1.0</td>\n",
              "      <td>0.0</td>\n",
              "      <td>0.0</td>\n",
              "      <td>0.0</td>\n",
              "      <td>0.0</td>\n",
              "      <td>0.0</td>\n",
              "      <td>0.0</td>\n",
              "      <td>0.0</td>\n",
              "      <td>0.0</td>\n",
              "      <td>0.0</td>\n",
              "      <td>0.0</td>\n",
              "      <td>0.0</td>\n",
              "      <td>1.0</td>\n",
              "      <td>0.0</td>\n",
              "      <td>...</td>\n",
              "      <td>0.0</td>\n",
              "      <td>0.0</td>\n",
              "      <td>0.0</td>\n",
              "      <td>0.0</td>\n",
              "      <td>0.0</td>\n",
              "      <td>1.0</td>\n",
              "      <td>0.0</td>\n",
              "      <td>0.0</td>\n",
              "      <td>0.0</td>\n",
              "      <td>0.0</td>\n",
              "      <td>0.0</td>\n",
              "      <td>0.0</td>\n",
              "      <td>0.0</td>\n",
              "      <td>0.0</td>\n",
              "      <td>0.0</td>\n",
              "      <td>1.0</td>\n",
              "      <td>0.0</td>\n",
              "      <td>1.0</td>\n",
              "      <td>0.0</td>\n",
              "      <td>0.0</td>\n",
              "      <td>0.0</td>\n",
              "      <td>0.0</td>\n",
              "      <td>0.0</td>\n",
              "      <td>1.0</td>\n",
              "      <td>0.0</td>\n",
              "      <td>0.0</td>\n",
              "      <td>-1.054118</td>\n",
              "      <td>-0.588892</td>\n",
              "      <td>-0.548221</td>\n",
              "      <td>-0.503539</td>\n",
              "      <td>-0.469689</td>\n",
              "      <td>-0.413846</td>\n",
              "      <td>-0.379426</td>\n",
              "      <td>-0.321934</td>\n",
              "      <td>-0.175510</td>\n",
              "      <td>-0.222536</td>\n",
              "      <td>-0.209675</td>\n",
              "      <td>-0.215343</td>\n",
              "      <td>-0.113737</td>\n",
              "      <td>-0.242518</td>\n",
              "    </tr>\n",
              "  </tbody>\n",
              "</table>\n",
              "<p>5 rows × 97 columns</p>\n",
              "</div>"
            ],
            "text/plain": [
              "   PAY_1_-2  PAY_1_-1  PAY_1_0  PAY_1_1  ...  PAY_AMT3  PAY_AMT4  PAY_AMT5  PAY_AMT6\n",
              "0       0.0       0.0      1.0      0.0  ... -0.271283 -0.095580  0.396210 -0.199461\n",
              "1       0.0       0.0      1.0      0.0  ... -0.283912 -0.215343 -0.249106 -0.263058\n",
              "2       0.0       0.0      0.0      0.0  ... -0.283604 -0.215343 -0.288256 -0.184332\n",
              "3       0.0       0.0      1.0      0.0  ... -0.228158 -0.162630 -0.288256 -0.300705\n",
              "4       0.0       0.0      1.0      0.0  ... -0.209675 -0.215343 -0.113737 -0.242518\n",
              "\n",
              "[5 rows x 97 columns]"
            ]
          },
          "execution_count": 43,
          "metadata": {},
          "output_type": "execute_result"
        }
      ],
      "source": [
        "X_test_df = pd.concat([X_test_credit_enc_pay,test_enc_cat,df_test_scaled], axis=1)\n",
        "X_test_df.head()"
      ]
    },
    {
      "cell_type": "code",
      "execution_count": null,
      "metadata": {
        "id": "RO0USNU2V8RY"
      },
      "outputs": [],
      "source": [
        "# Split data into training and validation set (the code has been provided)\n",
        "from sklearn.model_selection import train_test_split\n",
        "X_train, X_val, y_train, y_val = train_test_split(X, y, test_size=0.3, random_state=42)"
      ]
    },
    {
      "cell_type": "code",
      "execution_count": null,
      "metadata": {
        "colab": {
          "base_uri": "https://localhost:8080/"
        },
        "id": "csifFJTU_guc",
        "outputId": "c0a31c7a-1158-47bc-9dce-0dde20414d07"
      },
      "outputs": [
        {
          "name": "stdout",
          "output_type": "stream",
          "text": [
            "X Training:  (2789, 97)\n",
            "Y Training:  (2789, 2)\n",
            "\n",
            "X Validation:  (1196, 97)\n",
            "Y Validation:  (1196, 2)\n"
          ]
        }
      ],
      "source": [
        "# Print out the shape of X_train\n",
        "print('X Training: ', X_train.shape)\n",
        "print('Y Training: ', y_train.shape)\n",
        "print()\n",
        "print('X Validation: ', X_val.shape)\n",
        "print('Y Validation: ', y_val.shape)"
      ]
    },
    {
      "cell_type": "code",
      "execution_count": null,
      "metadata": {
        "colab": {
          "base_uri": "https://localhost:8080/",
          "height": 256
        },
        "id": "Z1R9Y2c67vhy",
        "outputId": "d37ad486-9d24-4d54-cda3-4b4cfd14d01a"
      },
      "outputs": [
        {
          "data": {
            "text/html": [
              "<div>\n",
              "<style scoped>\n",
              "    .dataframe tbody tr th:only-of-type {\n",
              "        vertical-align: middle;\n",
              "    }\n",
              "\n",
              "    .dataframe tbody tr th {\n",
              "        vertical-align: top;\n",
              "    }\n",
              "\n",
              "    .dataframe thead th {\n",
              "        text-align: right;\n",
              "    }\n",
              "</style>\n",
              "<table border=\"1\" class=\"dataframe\">\n",
              "  <thead>\n",
              "    <tr style=\"text-align: right;\">\n",
              "      <th></th>\n",
              "      <th>PAY_1_-2</th>\n",
              "      <th>PAY_1_-1</th>\n",
              "      <th>PAY_1_0</th>\n",
              "      <th>PAY_1_1</th>\n",
              "      <th>PAY_1_2</th>\n",
              "      <th>PAY_1_3</th>\n",
              "      <th>PAY_1_4</th>\n",
              "      <th>PAY_1_5</th>\n",
              "      <th>PAY_1_6</th>\n",
              "      <th>PAY_1_7</th>\n",
              "      <th>PAY_1_8</th>\n",
              "      <th>PAY_1_9</th>\n",
              "      <th>PAY_2_-2</th>\n",
              "      <th>PAY_2_-1</th>\n",
              "      <th>PAY_2_0</th>\n",
              "      <th>PAY_2_1</th>\n",
              "      <th>PAY_2_2</th>\n",
              "      <th>PAY_2_3</th>\n",
              "      <th>PAY_2_4</th>\n",
              "      <th>PAY_2_5</th>\n",
              "      <th>PAY_2_6</th>\n",
              "      <th>PAY_2_7</th>\n",
              "      <th>PAY_2_8</th>\n",
              "      <th>PAY_2_9</th>\n",
              "      <th>PAY_3_-2</th>\n",
              "      <th>PAY_3_-1</th>\n",
              "      <th>PAY_3_0</th>\n",
              "      <th>PAY_3_1</th>\n",
              "      <th>PAY_3_2</th>\n",
              "      <th>PAY_3_3</th>\n",
              "      <th>PAY_3_4</th>\n",
              "      <th>PAY_3_5</th>\n",
              "      <th>PAY_3_6</th>\n",
              "      <th>PAY_3_7</th>\n",
              "      <th>PAY_3_8</th>\n",
              "      <th>PAY_3_9</th>\n",
              "      <th>PAY_4_-2</th>\n",
              "      <th>PAY_4_-1</th>\n",
              "      <th>PAY_4_0</th>\n",
              "      <th>PAY_4_1</th>\n",
              "      <th>...</th>\n",
              "      <th>PAY_5_7</th>\n",
              "      <th>PAY_5_8</th>\n",
              "      <th>PAY_5_9</th>\n",
              "      <th>PAY_6_-2</th>\n",
              "      <th>PAY_6_-1</th>\n",
              "      <th>PAY_6_0</th>\n",
              "      <th>PAY_6_1</th>\n",
              "      <th>PAY_6_2</th>\n",
              "      <th>PAY_6_3</th>\n",
              "      <th>PAY_6_4</th>\n",
              "      <th>PAY_6_5</th>\n",
              "      <th>PAY_6_6</th>\n",
              "      <th>PAY_6_7</th>\n",
              "      <th>PAY_6_8</th>\n",
              "      <th>PAY_6_9</th>\n",
              "      <th>SEX_1</th>\n",
              "      <th>SEX_2</th>\n",
              "      <th>EDUCATION_1</th>\n",
              "      <th>EDUCATION_2</th>\n",
              "      <th>EDUCATION_3</th>\n",
              "      <th>EDUCATION_4</th>\n",
              "      <th>EDUCATION_5</th>\n",
              "      <th>EDUCATION_6</th>\n",
              "      <th>MARRIAGE_1</th>\n",
              "      <th>MARRIAGE_2</th>\n",
              "      <th>MARRIAGE_3</th>\n",
              "      <th>LIMIT_BAL</th>\n",
              "      <th>AGE</th>\n",
              "      <th>BILL_AMT1</th>\n",
              "      <th>BILL_AMT2</th>\n",
              "      <th>BILL_AMT3</th>\n",
              "      <th>BILL_AMT4</th>\n",
              "      <th>BILL_AMT5</th>\n",
              "      <th>BILL_AMT6</th>\n",
              "      <th>PAY_AMT1</th>\n",
              "      <th>PAY_AMT2</th>\n",
              "      <th>PAY_AMT3</th>\n",
              "      <th>PAY_AMT4</th>\n",
              "      <th>PAY_AMT5</th>\n",
              "      <th>PAY_AMT6</th>\n",
              "    </tr>\n",
              "  </thead>\n",
              "  <tbody>\n",
              "    <tr>\n",
              "      <th>2355</th>\n",
              "      <td>0.0</td>\n",
              "      <td>0.0</td>\n",
              "      <td>0.0</td>\n",
              "      <td>0.0</td>\n",
              "      <td>1.0</td>\n",
              "      <td>0.0</td>\n",
              "      <td>0.0</td>\n",
              "      <td>0.0</td>\n",
              "      <td>0.0</td>\n",
              "      <td>0.0</td>\n",
              "      <td>0.0</td>\n",
              "      <td>0.0</td>\n",
              "      <td>0.0</td>\n",
              "      <td>0.0</td>\n",
              "      <td>1.0</td>\n",
              "      <td>0.0</td>\n",
              "      <td>0.0</td>\n",
              "      <td>0.0</td>\n",
              "      <td>0.0</td>\n",
              "      <td>0.0</td>\n",
              "      <td>0.0</td>\n",
              "      <td>0.0</td>\n",
              "      <td>0.0</td>\n",
              "      <td>0.0</td>\n",
              "      <td>0.0</td>\n",
              "      <td>0.0</td>\n",
              "      <td>1.0</td>\n",
              "      <td>0.0</td>\n",
              "      <td>0.0</td>\n",
              "      <td>0.0</td>\n",
              "      <td>0.0</td>\n",
              "      <td>0.0</td>\n",
              "      <td>0.0</td>\n",
              "      <td>0.0</td>\n",
              "      <td>0.0</td>\n",
              "      <td>0.0</td>\n",
              "      <td>0.0</td>\n",
              "      <td>0.0</td>\n",
              "      <td>1.0</td>\n",
              "      <td>0.0</td>\n",
              "      <td>...</td>\n",
              "      <td>0.0</td>\n",
              "      <td>0.0</td>\n",
              "      <td>0.0</td>\n",
              "      <td>0.0</td>\n",
              "      <td>0.0</td>\n",
              "      <td>1.0</td>\n",
              "      <td>0.0</td>\n",
              "      <td>0.0</td>\n",
              "      <td>0.0</td>\n",
              "      <td>0.0</td>\n",
              "      <td>0.0</td>\n",
              "      <td>0.0</td>\n",
              "      <td>0.0</td>\n",
              "      <td>0.0</td>\n",
              "      <td>0.0</td>\n",
              "      <td>0.0</td>\n",
              "      <td>1.0</td>\n",
              "      <td>0.0</td>\n",
              "      <td>1.0</td>\n",
              "      <td>0.0</td>\n",
              "      <td>0.0</td>\n",
              "      <td>0.0</td>\n",
              "      <td>0.0</td>\n",
              "      <td>0.0</td>\n",
              "      <td>1.0</td>\n",
              "      <td>0.0</td>\n",
              "      <td>-1.054118</td>\n",
              "      <td>-1.453530</td>\n",
              "      <td>-0.311930</td>\n",
              "      <td>-0.328262</td>\n",
              "      <td>-0.295321</td>\n",
              "      <td>-0.241456</td>\n",
              "      <td>-0.185011</td>\n",
              "      <td>-0.159445</td>\n",
              "      <td>-0.273828</td>\n",
              "      <td>-0.234760</td>\n",
              "      <td>-0.221997</td>\n",
              "      <td>-0.157939</td>\n",
              "      <td>-0.226651</td>\n",
              "      <td>-0.235362</td>\n",
              "    </tr>\n",
              "    <tr>\n",
              "      <th>565</th>\n",
              "      <td>0.0</td>\n",
              "      <td>0.0</td>\n",
              "      <td>0.0</td>\n",
              "      <td>1.0</td>\n",
              "      <td>0.0</td>\n",
              "      <td>0.0</td>\n",
              "      <td>0.0</td>\n",
              "      <td>0.0</td>\n",
              "      <td>0.0</td>\n",
              "      <td>0.0</td>\n",
              "      <td>0.0</td>\n",
              "      <td>0.0</td>\n",
              "      <td>0.0</td>\n",
              "      <td>0.0</td>\n",
              "      <td>0.0</td>\n",
              "      <td>0.0</td>\n",
              "      <td>1.0</td>\n",
              "      <td>0.0</td>\n",
              "      <td>0.0</td>\n",
              "      <td>0.0</td>\n",
              "      <td>0.0</td>\n",
              "      <td>0.0</td>\n",
              "      <td>0.0</td>\n",
              "      <td>0.0</td>\n",
              "      <td>0.0</td>\n",
              "      <td>0.0</td>\n",
              "      <td>0.0</td>\n",
              "      <td>0.0</td>\n",
              "      <td>1.0</td>\n",
              "      <td>0.0</td>\n",
              "      <td>0.0</td>\n",
              "      <td>0.0</td>\n",
              "      <td>0.0</td>\n",
              "      <td>0.0</td>\n",
              "      <td>0.0</td>\n",
              "      <td>0.0</td>\n",
              "      <td>0.0</td>\n",
              "      <td>1.0</td>\n",
              "      <td>0.0</td>\n",
              "      <td>0.0</td>\n",
              "      <td>...</td>\n",
              "      <td>0.0</td>\n",
              "      <td>0.0</td>\n",
              "      <td>0.0</td>\n",
              "      <td>0.0</td>\n",
              "      <td>1.0</td>\n",
              "      <td>0.0</td>\n",
              "      <td>0.0</td>\n",
              "      <td>0.0</td>\n",
              "      <td>0.0</td>\n",
              "      <td>0.0</td>\n",
              "      <td>0.0</td>\n",
              "      <td>0.0</td>\n",
              "      <td>0.0</td>\n",
              "      <td>0.0</td>\n",
              "      <td>0.0</td>\n",
              "      <td>0.0</td>\n",
              "      <td>1.0</td>\n",
              "      <td>0.0</td>\n",
              "      <td>0.0</td>\n",
              "      <td>1.0</td>\n",
              "      <td>0.0</td>\n",
              "      <td>0.0</td>\n",
              "      <td>0.0</td>\n",
              "      <td>1.0</td>\n",
              "      <td>0.0</td>\n",
              "      <td>0.0</td>\n",
              "      <td>0.990155</td>\n",
              "      <td>0.167666</td>\n",
              "      <td>-0.601483</td>\n",
              "      <td>-0.606548</td>\n",
              "      <td>-0.648838</td>\n",
              "      <td>-0.632872</td>\n",
              "      <td>-0.604486</td>\n",
              "      <td>-0.589764</td>\n",
              "      <td>-0.243648</td>\n",
              "      <td>-0.325002</td>\n",
              "      <td>-0.238816</td>\n",
              "      <td>-0.132637</td>\n",
              "      <td>-0.120194</td>\n",
              "      <td>-0.180027</td>\n",
              "    </tr>\n",
              "    <tr>\n",
              "      <th>313</th>\n",
              "      <td>0.0</td>\n",
              "      <td>0.0</td>\n",
              "      <td>1.0</td>\n",
              "      <td>0.0</td>\n",
              "      <td>0.0</td>\n",
              "      <td>0.0</td>\n",
              "      <td>0.0</td>\n",
              "      <td>0.0</td>\n",
              "      <td>0.0</td>\n",
              "      <td>0.0</td>\n",
              "      <td>0.0</td>\n",
              "      <td>0.0</td>\n",
              "      <td>0.0</td>\n",
              "      <td>0.0</td>\n",
              "      <td>1.0</td>\n",
              "      <td>0.0</td>\n",
              "      <td>0.0</td>\n",
              "      <td>0.0</td>\n",
              "      <td>0.0</td>\n",
              "      <td>0.0</td>\n",
              "      <td>0.0</td>\n",
              "      <td>0.0</td>\n",
              "      <td>0.0</td>\n",
              "      <td>0.0</td>\n",
              "      <td>0.0</td>\n",
              "      <td>0.0</td>\n",
              "      <td>1.0</td>\n",
              "      <td>0.0</td>\n",
              "      <td>0.0</td>\n",
              "      <td>0.0</td>\n",
              "      <td>0.0</td>\n",
              "      <td>0.0</td>\n",
              "      <td>0.0</td>\n",
              "      <td>0.0</td>\n",
              "      <td>0.0</td>\n",
              "      <td>0.0</td>\n",
              "      <td>0.0</td>\n",
              "      <td>0.0</td>\n",
              "      <td>1.0</td>\n",
              "      <td>0.0</td>\n",
              "      <td>...</td>\n",
              "      <td>0.0</td>\n",
              "      <td>0.0</td>\n",
              "      <td>0.0</td>\n",
              "      <td>0.0</td>\n",
              "      <td>0.0</td>\n",
              "      <td>1.0</td>\n",
              "      <td>0.0</td>\n",
              "      <td>0.0</td>\n",
              "      <td>0.0</td>\n",
              "      <td>0.0</td>\n",
              "      <td>0.0</td>\n",
              "      <td>0.0</td>\n",
              "      <td>0.0</td>\n",
              "      <td>0.0</td>\n",
              "      <td>0.0</td>\n",
              "      <td>0.0</td>\n",
              "      <td>1.0</td>\n",
              "      <td>0.0</td>\n",
              "      <td>1.0</td>\n",
              "      <td>0.0</td>\n",
              "      <td>0.0</td>\n",
              "      <td>0.0</td>\n",
              "      <td>0.0</td>\n",
              "      <td>0.0</td>\n",
              "      <td>1.0</td>\n",
              "      <td>0.0</td>\n",
              "      <td>-0.145552</td>\n",
              "      <td>-1.021211</td>\n",
              "      <td>0.592458</td>\n",
              "      <td>0.664013</td>\n",
              "      <td>0.736103</td>\n",
              "      <td>0.834360</td>\n",
              "      <td>0.949196</td>\n",
              "      <td>1.022978</td>\n",
              "      <td>-0.113283</td>\n",
              "      <td>-0.094133</td>\n",
              "      <td>-0.086461</td>\n",
              "      <td>-0.057205</td>\n",
              "      <td>0.002610</td>\n",
              "      <td>-0.009774</td>\n",
              "    </tr>\n",
              "    <tr>\n",
              "      <th>601</th>\n",
              "      <td>0.0</td>\n",
              "      <td>1.0</td>\n",
              "      <td>0.0</td>\n",
              "      <td>0.0</td>\n",
              "      <td>0.0</td>\n",
              "      <td>0.0</td>\n",
              "      <td>0.0</td>\n",
              "      <td>0.0</td>\n",
              "      <td>0.0</td>\n",
              "      <td>0.0</td>\n",
              "      <td>0.0</td>\n",
              "      <td>0.0</td>\n",
              "      <td>0.0</td>\n",
              "      <td>1.0</td>\n",
              "      <td>0.0</td>\n",
              "      <td>0.0</td>\n",
              "      <td>0.0</td>\n",
              "      <td>0.0</td>\n",
              "      <td>0.0</td>\n",
              "      <td>0.0</td>\n",
              "      <td>0.0</td>\n",
              "      <td>0.0</td>\n",
              "      <td>0.0</td>\n",
              "      <td>0.0</td>\n",
              "      <td>0.0</td>\n",
              "      <td>1.0</td>\n",
              "      <td>0.0</td>\n",
              "      <td>0.0</td>\n",
              "      <td>0.0</td>\n",
              "      <td>0.0</td>\n",
              "      <td>0.0</td>\n",
              "      <td>0.0</td>\n",
              "      <td>0.0</td>\n",
              "      <td>0.0</td>\n",
              "      <td>0.0</td>\n",
              "      <td>0.0</td>\n",
              "      <td>0.0</td>\n",
              "      <td>1.0</td>\n",
              "      <td>0.0</td>\n",
              "      <td>0.0</td>\n",
              "      <td>...</td>\n",
              "      <td>0.0</td>\n",
              "      <td>0.0</td>\n",
              "      <td>0.0</td>\n",
              "      <td>0.0</td>\n",
              "      <td>0.0</td>\n",
              "      <td>1.0</td>\n",
              "      <td>0.0</td>\n",
              "      <td>0.0</td>\n",
              "      <td>0.0</td>\n",
              "      <td>0.0</td>\n",
              "      <td>0.0</td>\n",
              "      <td>0.0</td>\n",
              "      <td>0.0</td>\n",
              "      <td>0.0</td>\n",
              "      <td>0.0</td>\n",
              "      <td>0.0</td>\n",
              "      <td>1.0</td>\n",
              "      <td>0.0</td>\n",
              "      <td>0.0</td>\n",
              "      <td>1.0</td>\n",
              "      <td>0.0</td>\n",
              "      <td>0.0</td>\n",
              "      <td>0.0</td>\n",
              "      <td>1.0</td>\n",
              "      <td>0.0</td>\n",
              "      <td>0.0</td>\n",
              "      <td>0.914441</td>\n",
              "      <td>0.924224</td>\n",
              "      <td>-0.645682</td>\n",
              "      <td>-0.679090</td>\n",
              "      <td>-0.665955</td>\n",
              "      <td>-0.605344</td>\n",
              "      <td>-0.554089</td>\n",
              "      <td>-0.543451</td>\n",
              "      <td>-0.362190</td>\n",
              "      <td>-0.290384</td>\n",
              "      <td>-0.124041</td>\n",
              "      <td>0.036835</td>\n",
              "      <td>-0.288256</td>\n",
              "      <td>-0.291977</td>\n",
              "    </tr>\n",
              "    <tr>\n",
              "      <th>233</th>\n",
              "      <td>0.0</td>\n",
              "      <td>0.0</td>\n",
              "      <td>0.0</td>\n",
              "      <td>0.0</td>\n",
              "      <td>1.0</td>\n",
              "      <td>0.0</td>\n",
              "      <td>0.0</td>\n",
              "      <td>0.0</td>\n",
              "      <td>0.0</td>\n",
              "      <td>0.0</td>\n",
              "      <td>0.0</td>\n",
              "      <td>0.0</td>\n",
              "      <td>0.0</td>\n",
              "      <td>0.0</td>\n",
              "      <td>1.0</td>\n",
              "      <td>0.0</td>\n",
              "      <td>0.0</td>\n",
              "      <td>0.0</td>\n",
              "      <td>0.0</td>\n",
              "      <td>0.0</td>\n",
              "      <td>0.0</td>\n",
              "      <td>0.0</td>\n",
              "      <td>0.0</td>\n",
              "      <td>0.0</td>\n",
              "      <td>0.0</td>\n",
              "      <td>0.0</td>\n",
              "      <td>1.0</td>\n",
              "      <td>0.0</td>\n",
              "      <td>0.0</td>\n",
              "      <td>0.0</td>\n",
              "      <td>0.0</td>\n",
              "      <td>0.0</td>\n",
              "      <td>0.0</td>\n",
              "      <td>0.0</td>\n",
              "      <td>0.0</td>\n",
              "      <td>0.0</td>\n",
              "      <td>0.0</td>\n",
              "      <td>0.0</td>\n",
              "      <td>1.0</td>\n",
              "      <td>0.0</td>\n",
              "      <td>...</td>\n",
              "      <td>0.0</td>\n",
              "      <td>0.0</td>\n",
              "      <td>0.0</td>\n",
              "      <td>0.0</td>\n",
              "      <td>0.0</td>\n",
              "      <td>1.0</td>\n",
              "      <td>0.0</td>\n",
              "      <td>0.0</td>\n",
              "      <td>0.0</td>\n",
              "      <td>0.0</td>\n",
              "      <td>0.0</td>\n",
              "      <td>0.0</td>\n",
              "      <td>0.0</td>\n",
              "      <td>0.0</td>\n",
              "      <td>0.0</td>\n",
              "      <td>1.0</td>\n",
              "      <td>0.0</td>\n",
              "      <td>0.0</td>\n",
              "      <td>1.0</td>\n",
              "      <td>0.0</td>\n",
              "      <td>0.0</td>\n",
              "      <td>0.0</td>\n",
              "      <td>0.0</td>\n",
              "      <td>1.0</td>\n",
              "      <td>0.0</td>\n",
              "      <td>0.0</td>\n",
              "      <td>-1.129832</td>\n",
              "      <td>0.708064</td>\n",
              "      <td>-0.407193</td>\n",
              "      <td>-0.386424</td>\n",
              "      <td>-0.397807</td>\n",
              "      <td>-0.361282</td>\n",
              "      <td>-0.343890</td>\n",
              "      <td>-0.328698</td>\n",
              "      <td>-0.276753</td>\n",
              "      <td>-0.254072</td>\n",
              "      <td>-0.259639</td>\n",
              "      <td>-0.238009</td>\n",
              "      <td>-0.253992</td>\n",
              "      <td>-0.265793</td>\n",
              "    </tr>\n",
              "  </tbody>\n",
              "</table>\n",
              "<p>5 rows × 97 columns</p>\n",
              "</div>"
            ],
            "text/plain": [
              "      PAY_1_-2  PAY_1_-1  PAY_1_0  ...  PAY_AMT4  PAY_AMT5  PAY_AMT6\n",
              "2355       0.0       0.0      0.0  ... -0.157939 -0.226651 -0.235362\n",
              "565        0.0       0.0      0.0  ... -0.132637 -0.120194 -0.180027\n",
              "313        0.0       0.0      1.0  ... -0.057205  0.002610 -0.009774\n",
              "601        0.0       1.0      0.0  ...  0.036835 -0.288256 -0.291977\n",
              "233        0.0       0.0      0.0  ... -0.238009 -0.253992 -0.265793\n",
              "\n",
              "[5 rows x 97 columns]"
            ]
          },
          "execution_count": 46,
          "metadata": {},
          "output_type": "execute_result"
        }
      ],
      "source": [
        "X_train.head()"
      ]
    },
    {
      "cell_type": "code",
      "execution_count": null,
      "metadata": {
        "id": "hrNGv2e-B2O_"
      },
      "outputs": [],
      "source": [
        "# Use scikit-learn to randomized search the number of neurons\n",
        "import numpy\n",
        "from sklearn.model_selection import RandomizedSearchCV \n",
        "from keras.models import Sequential\n",
        "from keras.layers import Dense\n",
        "from keras.layers import Dropout\n",
        "from keras.wrappers.scikit_learn import KerasClassifier\n",
        "from keras.constraints import maxnorm"
      ]
    },
    {
      "cell_type": "code",
      "execution_count": null,
      "metadata": {
        "colab": {
          "base_uri": "https://localhost:8080/"
        },
        "id": "n2ni8cCfDEC4",
        "outputId": "e9bc847a-5c78-40ae-f2e7-7701049739d6"
      },
      "outputs": [
        {
          "name": "stderr",
          "output_type": "stream",
          "text": [
            "/usr/local/lib/python3.7/dist-packages/ipykernel_launcher.py:15: DeprecationWarning: KerasClassifier is deprecated, use Sci-Keras (https://github.com/adriangb/scikeras) instead.\n",
            "  from ipykernel import kernelapp as app\n"
          ]
        }
      ],
      "source": [
        "def build_clf(neurons=1, dropout_rate=0.1):\n",
        "      # creating the layers of the NN\n",
        "      model5 = Sequential()\n",
        "      model5.add(Dense(neurons, input_dim=X.shape[1], activation='relu'))\n",
        "      model5.add(Dropout(dropout_rate))\n",
        "      model5.add(Dense(neurons, activation='relu'))\n",
        "      model5.add(Dropout(dropout_rate))\n",
        "      model5.add(Dense(neurons, activation='relu'))\n",
        "      model5.add(Dropout(dropout_rate))      \n",
        "      model5.add(Dense(units=2, activation= 'softmax'))\n",
        "      sgd = SGD(learning_rate=0.001, decay=1e-7, momentum=.9)  # Stochastic gradient descent\n",
        "      model5.compile(loss='categorical_crossentropy', optimizer=sgd, metrics=[\"accuracy\"]) \n",
        "      return model5\n",
        "\n",
        "model_5 = KerasClassifier(build_fn=build_clf, epochs=100, batch_size=32, verbose=0)\n",
        "# define the grid search parameters\n",
        "neurons = [1, 5, 10, 15, 20, 25, 30]\n",
        "dropout_rate = [0.1, 0.2, 0.3, 0.4, 0.5]\n",
        "param_grid = dict(neurons=neurons, dropout_rate=dropout_rate)\n",
        "random_search = RandomizedSearchCV(estimator = model_5,\n",
        "                                   param_distributions = param_grid,\n",
        "                                   cv = 3) \n",
        "random_search_results = random_search.fit(X_train, y_train) # it may take several hours."
      ]
    },
    {
      "cell_type": "markdown",
      "metadata": {
        "id": "BScpBTLeYsDE"
      },
      "source": [
        "## **STEP TWO: Build a neural network to predict the output in the \"CreditDefault_training.csv\".**\n",
        "\n",
        "I built my model in the build_final_model() function\n",
        "\n",
        "I tried different number of layers, different number of units in layers and experiment with hyperparameters. In term of regularization, I includde a dropout layer after a hidden layer. In dropout layer, I randomly set a fraction rate of input units to 0 at each update during training time, which helps prevent overfitting. Moreover, I used 'relu' activation function for all intermediate layers."
      ]
    },
    {
      "cell_type": "code",
      "execution_count": null,
      "metadata": {
        "colab": {
          "base_uri": "https://localhost:8080/"
        },
        "id": "nLpJCNB-F_CD",
        "outputId": "14af4e80-0632-4fc3-a098-d3b387a3bc0e"
      },
      "outputs": [
        {
          "name": "stdout",
          "output_type": "stream",
          "text": [
            "Best: 0.809964 using {'neurons': 25, 'dropout_rate': 0.2}\n",
            "0.802076 (0.010741) with: {'neurons': 25, 'dropout_rate': 0.3}\n",
            "0.809964 (0.007665) with: {'neurons': 25, 'dropout_rate': 0.2}\n",
            "0.808171 (0.008435) with: {'neurons': 20, 'dropout_rate': 0.1}\n",
            "0.789891 (0.016071) with: {'neurons': 5, 'dropout_rate': 0.1}\n",
            "0.766937 (0.009782) with: {'neurons': 1, 'dropout_rate': 0.5}\n",
            "0.766937 (0.009782) with: {'neurons': 1, 'dropout_rate': 0.4}\n",
            "0.768371 (0.011530) with: {'neurons': 20, 'dropout_rate': 0.5}\n",
            "0.773030 (0.017629) with: {'neurons': 15, 'dropout_rate': 0.4}\n",
            "0.808527 (0.013216) with: {'neurons': 20, 'dropout_rate': 0.3}\n",
            "0.807094 (0.011393) with: {'neurons': 25, 'dropout_rate': 0.1}\n"
          ]
        }
      ],
      "source": [
        "print(\"Best: %f using %s\" % (random_search_results.best_score_, random_search_results.best_params_))\n",
        "means = random_search.cv_results_['mean_test_score']\n",
        "stds = random_search.cv_results_['std_test_score']\n",
        "params = random_search.cv_results_['params']\n",
        "for mean, stdev, param in zip(means, stds, params):\n",
        "    print(\"%f (%f) with: %r\" % (mean, stdev, param))"
      ]
    },
    {
      "cell_type": "code",
      "execution_count": null,
      "metadata": {
        "id": "TXQaACvR15m0"
      },
      "outputs": [],
      "source": [
        "def model_5_Q3():\n",
        "      # creating the layers of the NN\n",
        "      model = Sequential()\n",
        "      model.add(Dense(30, input_dim=X.shape[1], activation='relu'))\n",
        "      model.add(Dropout(0.2))\n",
        "      model.add(Dense(30, activation='relu'))\n",
        "      model.add(Dropout(0.2))\n",
        "      model.add(Dense(30, activation='relu'))\n",
        "      model.add(Dropout(0.2))      \n",
        "      model.add(Dense(units=2, activation= 'softmax'))\n",
        "      sgd = SGD(learning_rate=0.001, decay=1e-7, momentum=.9)  # Stochastic gradient descent\n",
        "      model.compile(loss='categorical_crossentropy', optimizer=sgd, metrics=[\"accuracy\"]) \n",
        "      return model"
      ]
    },
    {
      "cell_type": "markdown",
      "metadata": {
        "id": "_l0iekg-eAYF"
      },
      "source": [
        "#### Fit the model by training set with epochs=100, batch_size=32"
      ]
    },
    {
      "cell_type": "code",
      "execution_count": null,
      "metadata": {
        "colab": {
          "base_uri": "https://localhost:8080/"
        },
        "id": "dWjebEcKQo3o",
        "outputId": "4b065d08-f491-43be-ff30-eb5029358207"
      },
      "outputs": [
        {
          "name": "stdout",
          "output_type": "stream",
          "text": [
            "Model: \"sequential_34\"\n",
            "_________________________________________________________________\n",
            " Layer (type)                Output Shape              Param #   \n",
            "=================================================================\n",
            " dense_130 (Dense)           (None, 30)                2940      \n",
            "                                                                 \n",
            " dropout_93 (Dropout)        (None, 30)                0         \n",
            "                                                                 \n",
            " dense_131 (Dense)           (None, 30)                930       \n",
            "                                                                 \n",
            " dropout_94 (Dropout)        (None, 30)                0         \n",
            "                                                                 \n",
            " dense_132 (Dense)           (None, 30)                930       \n",
            "                                                                 \n",
            " dropout_95 (Dropout)        (None, 30)                0         \n",
            "                                                                 \n",
            " dense_133 (Dense)           (None, 2)                 62        \n",
            "                                                                 \n",
            "=================================================================\n",
            "Total params: 4,862\n",
            "Trainable params: 4,862\n",
            "Non-trainable params: 0\n",
            "_________________________________________________________________\n"
          ]
        }
      ],
      "source": [
        "model_5_Q3_f = model_5_Q3()\n",
        "model_5_Q3_f.summary()"
      ]
    },
    {
      "cell_type": "code",
      "execution_count": null,
      "metadata": {
        "colab": {
          "base_uri": "https://localhost:8080/"
        },
        "id": "QImHw9t3KFZ5",
        "outputId": "7557f0ac-a292-48fd-8591-1bb6f6a5914e"
      },
      "outputs": [
        {
          "data": {
            "text/plain": [
              "<keras.callbacks.History at 0x7f4e46909d90>"
            ]
          },
          "execution_count": 52,
          "metadata": {},
          "output_type": "execute_result"
        }
      ],
      "source": [
        "model_5_Q3_f.fit(X_train, y_train, epochs=100, batch_size=32, verbose= 0)"
      ]
    },
    {
      "cell_type": "code",
      "source": [
        "### My own function to calculate accuracy###\n",
        "def my_accuracy(y, y_preds):\n",
        "  tp = 0\n",
        "  for i in range(len(y_preds)):\n",
        "    if y_preds[i] == 1 and y[i] == 1:\n",
        "      tp += 1\n",
        "  tn = 0\n",
        "  for i in range(len(y_preds)):\n",
        "    if y_preds[i] == 0 and y[i] == 0:\n",
        "      tn += 1\n",
        "\n",
        "  return (tp + tn)/len(y_preds)\n",
        "\n",
        "def my_recall(y, y_preds):\n",
        "  tp = 0\n",
        "  for i in range(len(y_preds)):\n",
        "    if y_preds[i] == 1 and y[i] == 1:\n",
        "      tp += 1\n",
        "  fn = 0\n",
        "  for i in range(len(y_preds)):\n",
        "    if y_preds[i] == 0 and y[i] == 1:\n",
        "      fn += 1\n",
        "\n",
        "  return tp / (tp+fn)\n",
        "\n",
        "def my_precision(y, y_preds):\n",
        "  tp = 0\n",
        "  for i in range(len(y_preds)):\n",
        "    if y_preds[i] == 1 and y[i] == 1:\n",
        "      tp += 1\n",
        "  fp = 0\n",
        "  for i in range(len(y_preds)):\n",
        "    if y_preds[i] == 1 and y[i] == 0:\n",
        "      fp += 1\n"
      ],
      "metadata": {
        "id": "UiNEWftLaznC"
      },
      "execution_count": 2,
      "outputs": []
    },
    {
      "cell_type": "markdown",
      "metadata": {
        "id": "SiF2xX_uenJn"
      },
      "source": [
        "#### Obtain predictions on validation set and print accuracy, precision & recall and F1 score of \n",
        "\n",
        "**F1 = 2 * (precision * recall) / (precision + recall)**"
      ]
    },
    {
      "cell_type": "code",
      "execution_count": null,
      "metadata": {
        "colab": {
          "base_uri": "https://localhost:8080/"
        },
        "id": "jghwnwcL_guc",
        "outputId": "a213b6f7-e564-4ffe-ec51-2b15259ceb2c"
      },
      "outputs": [
        {
          "name": "stdout",
          "output_type": "stream",
          "text": [
            "The accuracy is: 81.19%\n",
            "The precision is: 61.08%\n",
            "The recall is: 45.93%\n",
            "The F1 Score is: 0.5243128964059196\n"
          ]
        }
      ],
      "source": [
        "y_pred_5_q4 = model_5_Q3_f.predict(X_val) \n",
        "y_predict_5_q4 = np.argmax(y_pred_5_q4, axis = 1)\n",
        "y_val_5_q4 = np.argmax(y_val, axis = 1)\n",
        "accuracy_5_q4 = my_accuracy(y_val_5_q4, y_predict_5_q4)\n",
        "precision_5_q4 = my_precision(y_val_5_q4, y_predict_5_q4)\n",
        "recall_5_q4 = my_recall(y_val_5_q4, y_predict_5_q4)\n",
        "F1_5_q4 = 2 * (precision_5_q4 * recall_5_q4) / (precision_5_q4 + recall_5_q4)\n",
        "print(f'The accuracy is: {(accuracy_5_q4):.2%}')  \n",
        "print(f'The precision is: {(precision_5_q4):.2%}') \n",
        "print(f'The recall is: {(recall_5_q4):.2%}')  \n",
        "print(f'The F1 Score is: {(F1_5_q4)}')              "
      ]
    },
    {
      "cell_type": "markdown",
      "metadata": {
        "id": "lm9Wv9P0gE4T"
      },
      "source": [
        "#### Plot the ROC curve"
      ]
    },
    {
      "cell_type": "code",
      "execution_count": null,
      "metadata": {
        "colab": {
          "base_uri": "https://localhost:8080/",
          "height": 644
        },
        "id": "Cs7CkXWC_guc",
        "outputId": "b305d816-5b14-4021-f84d-20790f96d92f"
      },
      "outputs": [
        {
          "name": "stdout",
          "output_type": "stream",
          "text": [
            "AUC of the dataset is 76.69%\n"
          ]
        },
        {
          "data": {
            "image/png": "[encoded data removed]",
            "text/plain": [
              "<Figure size 720x720 with 1 Axes>"
            ]
          },
          "metadata": {},
          "output_type": "display_data"
        }
      ],
      "source": [
        "# Plot the ROC curve \n",
        "from sklearn.metrics import roc_auc_score\n",
        "from sklearn.metrics import roc_curve\n",
        "neural_auc_roc = roc_auc_score(y_val_5_q4, y_pred_5_q4[:,1])\n",
        "fpr, tpr, thresholds = roc_curve(y_val_5_q4, y_pred_5_q4[:,1])\n",
        "print(f'AUC of the dataset is {neural_auc_roc:.2%}')\n",
        "import matplotlib.pyplot as plt\n",
        "plt.figure(figsize = (10,10))\n",
        "plt.plot(fpr, tpr, label='Neural Network (area = %0.2f)' % neural_auc_roc)\n",
        "plt.plot([0, 1], [0, 1],'r--', color = 'red')\n",
        "plt.xlim([0.0, 1.0])\n",
        "plt.ylim([0.0, 1.05])\n",
        "plt.xlabel('False Positive Rate', fontsize = 14)\n",
        "plt.ylabel('True Positive Rate', fontsize = 14)\n",
        "plt.title('Receiver operating characteristic', fontsize = 16)\n",
        "plt.legend(loc=\"best\")\n",
        "plt.show()"
      ]
    },
    {
      "cell_type": "markdown",
      "metadata": {
        "id": "3UyHYWaAtlOm"
      },
      "source": [
        "### **My finding about this try:**\n",
        "When trying to predict defaults, false negatives cost the bank more than false positives. Because it's okay to predict someone defaults even when they are not going to, but if you miss someone who is going to default, then you are losing money. \n",
        "\n",
        "So for these five metrics (accuracy, precision, recall, F1 score and AUC), it is more important how many of the actual defaultees we identify, which is **recall**. This is how we prevent the bank from losing money\n",
        "\n",
        "Precision doesn't matter as much as it is okay to predict that someone defaults when they aren't going to.\n",
        "\n",
        "the accuracy value (about 81%) is impressive or not for this dataset and explain why. The accuracy is not very impressive for this dataset. There are about 23% credit card default in our data. So if we predict all observations to be '0' label, then we still have about 77% accuracy.\n",
        "\n",
        "The F-measure is the harmonic mean of your precision and recall. In most situations, you have a trade-off between precision and recall. If you optimize your classifier to increase one and disfavor the other, the harmonic mean quickly decreases. It is greatest however, when both precision and recall are equal. Here we got around 0.5, which is not very impressive.\n",
        "\n"
      ]
    },
    {
      "cell_type": "markdown",
      "metadata": {
        "id": "SjZQ940YWQSW"
      },
      "source": [
        "## **STEP THREE: Tuning hyperparameters using cross-validation:**<br/>\n",
        "Cross-validation in neural networks is computationally expensive. So I decided to perform a randomized cross-validation search across the parameter space using RandomizedSearchCV function.\n",
        "\n",
        "Here, I used KerasClassifier class, which act as a wrapper of scikit-learn’s library in Keras comes as a handy tool for automating the tuning process."
      ]
    },
    {
      "cell_type": "code",
      "execution_count": null,
      "metadata": {
        "id": "O6t4j_UJWPYb"
      },
      "outputs": [],
      "source": [
        "from sklearn.model_selection import RandomizedSearchCV \n",
        "from keras.wrappers.scikit_learn import KerasClassifier"
      ]
    },
    {
      "cell_type": "markdown",
      "metadata": {
        "id": "MJtSGwtNUlEg"
      },
      "source": [
        "#### First I create a function to build neural network model with activation function and learning rate of SGD as parameters"
      ]
    },
    {
      "cell_type": "code",
      "execution_count": null,
      "metadata": {
        "id": "PcrUJZj7rHIO"
      },
      "outputs": [],
      "source": [
        "def create_model(activation, learning_rate):\n",
        "      # Create an SGD optimizer with its learning rate equal to the \"learning_rate\" parameter value of create_model\n",
        "      opt = SGD(learning_rate= learning_rate, decay=1e-7, momentum=.9)\n",
        "      # creating the layers of the NN\n",
        "      model5_2 = Sequential()\n",
        "      model5_2.add(Dense(30, input_dim=X.shape[1], activation = activation))\n",
        "      model5_2.add(Dropout(0.2))\n",
        "      model5_2.add(Dense(30, activation = activation))\n",
        "      model5_2.add(Dropout(0.2))\n",
        "      model5_2.add(Dense(30, activation = activation))\n",
        "      model5_2.add(Dropout(0.2))\n",
        "      model5_2.add(Dense(units=2, activation= 'softmax'))\n",
        "      sgd = SGD(learning_rate=learning_rate, decay=1e-7, momentum=.9) \n",
        "      model5_2.compile(loss='categorical_crossentropy', optimizer=opt, metrics=[\"accuracy\"]) \n",
        "      return model5_2"
      ]
    },
    {
      "cell_type": "markdown",
      "metadata": {
        "id": "x2IHOXeRMPjR"
      },
      "source": [
        "Then Creating a model object using KerasClassifier from keras.wrappers.scikit_learn by passing the create_model function."
      ]
    },
    {
      "cell_type": "code",
      "execution_count": null,
      "metadata": {
        "colab": {
          "base_uri": "https://localhost:8080/"
        },
        "id": "Wq-48iSOMGRd",
        "outputId": "c6bba96e-659c-4ffa-91a2-a69bb878eddf"
      },
      "outputs": [
        {
          "name": "stderr",
          "output_type": "stream",
          "text": [
            "/usr/local/lib/python3.7/dist-packages/ipykernel_launcher.py:2: DeprecationWarning: KerasClassifier is deprecated, use Sci-Keras (https://github.com/adriangb/scikeras) instead.\n",
            "  \n"
          ]
        }
      ],
      "source": [
        "# create model\n",
        "model_55 = KerasClassifier(build_fn=create_model, verbose=0)"
      ]
    },
    {
      "cell_type": "markdown",
      "metadata": {
        "id": "dTQgcA8dMfIL"
      },
      "source": [
        "Then I make my first try using the following hyperparameters:\n",
        "\n",
        "- activation function: relu, tanh\n",
        "\n",
        "- batch size: 16, 32 and 64\n",
        "\n",
        "- epochs: 100, 200 and 500\n",
        "\n",
        "- learning rate: 0.01, 0.001 and 0.0001\n",
        "\n",
        "Use dictionary object to define the parameter search space."
      ]
    },
    {
      "cell_type": "code",
      "execution_count": null,
      "metadata": {
        "id": "Mldddf7RMcJn"
      },
      "outputs": [],
      "source": [
        "# define the grid search parameters\n",
        "activation = ['relu', 'tanh']\n",
        "batch_size = [16, 32, 64]\n",
        "epochs = [100, 200, 500]\n",
        "learning_rate = [0.01, 0.001, 0.0001]\n",
        "param_distributions = dict(activation=activation, batch_size=batch_size, epochs=epochs, learning_rate=learning_rate)"
      ]
    },
    {
      "cell_type": "markdown",
      "metadata": {
        "id": "OugTwxjcNwG_"
      },
      "source": [
        "Next I perform a randomized cross-validation search across the parameter space using RandomizedSearchCV function. I selected the randomized search as it works faster than a grid search. Here, I performed a 5-fold cross-validation search. "
      ]
    },
    {
      "cell_type": "code",
      "execution_count": null,
      "metadata": {
        "id": "-O8EPPiDNsoI"
      },
      "outputs": [],
      "source": [
        "### WRITE CODE HERE \n",
        "random_search = RandomizedSearchCV(estimator = model_55,\n",
        "                                   param_distributions = param_distributions,\n",
        "                                   cv = 5) "
      ]
    },
    {
      "cell_type": "code",
      "execution_count": null,
      "metadata": {
        "id": "n7HSam2xOVx1"
      },
      "outputs": [],
      "source": [
        "random_search_results = random_search.fit(X_train, y_train) # it may take several hours."
      ]
    },
    {
      "cell_type": "markdown",
      "metadata": {
        "id": "xkpfSAvOXVV9"
      },
      "source": [
        "#### Print the best model parameters "
      ]
    },
    {
      "cell_type": "code",
      "execution_count": null,
      "metadata": {
        "colab": {
          "base_uri": "https://localhost:8080/"
        },
        "id": "qHnyRJlxW75H",
        "outputId": "48b62f9c-b4e2-4d6c-eb62-5622d1ace10e"
      },
      "outputs": [
        {
          "name": "stdout",
          "output_type": "stream",
          "text": [
            "Best: 0.817848 using {'learning_rate': 0.001, 'epochs': 200, 'batch_size': 16, 'activation': 'tanh'}\n",
            "0.766929 (0.020024) with: {'learning_rate': 0.0001, 'epochs': 200, 'batch_size': 64, 'activation': 'relu'}\n",
            "0.811392 (0.016604) with: {'learning_rate': 0.001, 'epochs': 100, 'batch_size': 16, 'activation': 'relu'}\n",
            "0.810318 (0.015623) with: {'learning_rate': 0.01, 'epochs': 100, 'batch_size': 16, 'activation': 'tanh'}\n",
            "0.815696 (0.015589) with: {'learning_rate': 0.001, 'epochs': 500, 'batch_size': 64, 'activation': 'tanh'}\n",
            "0.811753 (0.014044) with: {'learning_rate': 0.001, 'epochs': 100, 'batch_size': 32, 'activation': 'relu'}\n",
            "0.808880 (0.018232) with: {'learning_rate': 0.01, 'epochs': 200, 'batch_size': 32, 'activation': 'tanh'}\n",
            "0.786650 (0.023469) with: {'learning_rate': 0.0001, 'epochs': 200, 'batch_size': 32, 'activation': 'relu'}\n",
            "0.791311 (0.021953) with: {'learning_rate': 0.0001, 'epochs': 500, 'batch_size': 64, 'activation': 'relu'}\n",
            "0.817848 (0.012412) with: {'learning_rate': 0.001, 'epochs': 200, 'batch_size': 16, 'activation': 'tanh'}\n",
            "0.800631 (0.023087) with: {'learning_rate': 0.001, 'epochs': 500, 'batch_size': 32, 'activation': 'relu'}\n"
          ]
        }
      ],
      "source": [
        "### WRITE CODE HERE \n",
        "print(\"Best: %f using %s\" % (random_search_results.best_score_, random_search_results.best_params_))\n",
        "means = random_search.cv_results_['mean_test_score']\n",
        "stds = random_search.cv_results_['std_test_score']\n",
        "params = random_search.cv_results_['params']\n",
        "for mean, stdev, param in zip(means, stds, params):\n",
        "    print(\"%f (%f) with: %r\" % (mean, stdev, param))"
      ]
    },
    {
      "cell_type": "markdown",
      "metadata": {
        "id": "ghS7bgUMaTU6"
      },
      "source": [
        "#### Fit the model with the Best Parameter Set"
      ]
    },
    {
      "cell_type": "code",
      "execution_count": null,
      "metadata": {
        "id": "yAR5UKtrXUd_"
      },
      "outputs": [],
      "source": [
        "### WRITE CODE HERE \n",
        "def create_model_5_9():\n",
        "      # Create an SGD optimizer with its learning rate equal to the \"learning_rate\" parameter value of create_model\n",
        "      opt = SGD(learning_rate= 0.001, decay=1e-7, momentum=.9)\n",
        "      # creating the layers of the NN\n",
        "      model = Sequential()\n",
        "      model.add(Dense(30, input_dim=X.shape[1], activation = 'tanh'))\n",
        "      model.add(Dropout(0.2))\n",
        "      model.add(Dense(30, activation = 'tanh'))\n",
        "      model.add(Dropout(0.2))\n",
        "      model.add(Dense(30, activation = 'tanh'))\n",
        "      model.add(Dropout(0.2))\n",
        "      model.add(Dense(units=2, activation= 'softmax'))\n",
        "      model.compile(loss='categorical_crossentropy', optimizer=opt, metrics=[\"accuracy\"]) \n",
        "      return model"
      ]
    },
    {
      "cell_type": "code",
      "execution_count": null,
      "metadata": {
        "colab": {
          "base_uri": "https://localhost:8080/"
        },
        "id": "quDPAbs53Xq-",
        "outputId": "8be0dbb2-9e8a-4446-bf26-95646207b636"
      },
      "outputs": [
        {
          "name": "stdout",
          "output_type": "stream",
          "text": [
            "Model: \"sequential_86\"\n",
            "_________________________________________________________________\n",
            " Layer (type)                Output Shape              Param #   \n",
            "=================================================================\n",
            " dense_338 (Dense)           (None, 30)                2940      \n",
            "                                                                 \n",
            " dropout_249 (Dropout)       (None, 30)                0         \n",
            "                                                                 \n",
            " dense_339 (Dense)           (None, 30)                930       \n",
            "                                                                 \n",
            " dropout_250 (Dropout)       (None, 30)                0         \n",
            "                                                                 \n",
            " dense_340 (Dense)           (None, 30)                930       \n",
            "                                                                 \n",
            " dropout_251 (Dropout)       (None, 30)                0         \n",
            "                                                                 \n",
            " dense_341 (Dense)           (None, 2)                 62        \n",
            "                                                                 \n",
            "=================================================================\n",
            "Total params: 4,862\n",
            "Trainable params: 4,862\n",
            "Non-trainable params: 0\n",
            "_________________________________________________________________\n"
          ]
        }
      ],
      "source": [
        "model_5_Q10 = create_model_5_9()\n",
        "model_5_Q10.summary()"
      ]
    },
    {
      "cell_type": "code",
      "execution_count": null,
      "metadata": {
        "colab": {
          "base_uri": "https://localhost:8080/"
        },
        "id": "xZ7hk9LF3q4Q",
        "outputId": "ce7e19e9-863e-4050-818a-4aeef975cc59"
      },
      "outputs": [
        {
          "data": {
            "text/plain": [
              "<keras.callbacks.History at 0x7f4e34f6cf90>"
            ]
          },
          "execution_count": 66,
          "metadata": {},
          "output_type": "execute_result"
        }
      ],
      "source": [
        "model_5_Q10.fit(X_train, y_train, epochs=200, batch_size=16, verbose= 0)"
      ]
    },
    {
      "cell_type": "markdown",
      "metadata": {
        "id": "gbolTfGnUIoS"
      },
      "source": [
        "#### Obtain predictions on validation set and print accuracy, precision, recall and F1 score."
      ]
    },
    {
      "cell_type": "code",
      "execution_count": null,
      "metadata": {
        "colab": {
          "base_uri": "https://localhost:8080/"
        },
        "id": "gAq4vXhDa80L",
        "outputId": "36a30e9d-7d82-4524-b289-5792c8449906"
      },
      "outputs": [
        {
          "name": "stdout",
          "output_type": "stream",
          "text": [
            "The accuracy is: 81.61%\n",
            "The precision is: 62.38%\n",
            "The recall is: 46.67%\n",
            "The F1 Score is: 0.5338983050847457\n"
          ]
        }
      ],
      "source": [
        "### WRITE CODE HERE \n",
        "y_pred_5_q10 = model_5_Q10.predict(X_val) \n",
        "y_predict_5_q10 = np.argmax(y_pred_5_q10, axis = 1)\n",
        "y_val_5_q10 = np.argmax(y_val, axis = 1)\n",
        "accuracy_5_q10 = my_accuracy(y_val_5_q10, y_predict_5_q10)\n",
        "precision_5_q10 = my_precision(y_val_5_q10, y_predict_5_q10)\n",
        "recall_5_q10 = my_recall(y_val_5_q10, y_predict_5_q10)\n",
        "F1_5_q10 = 2 * (precision_5_q10 * recall_5_q10) / (precision_5_q10 + recall_5_q10)\n",
        "print(f'The accuracy is: {(accuracy_5_q10):.2%}')  \n",
        "print(f'The precision is: {(precision_5_q10):.2%}') \n",
        "print(f'The recall is: {(recall_5_q10):.2%}')  \n",
        "print(f'The F1 Score is: {(F1_5_q10)}') "
      ]
    },
    {
      "cell_type": "markdown",
      "metadata": {
        "id": "09X3OxlixWRk"
      },
      "source": [
        "### Here I get roughly the same **Accuracy**, but increased **precision/recall/F1 Score**"
      ]
    },
    {
      "cell_type": "markdown",
      "metadata": {
        "id": "LAkhIzsh_guc"
      },
      "source": [
        "## **STEP FOUR: Logistic Regression and Random Forest**\n",
        "#### I tried Logistic Regression and Random Forest algorithms for the same problem with the same default payment dataset to produce Logistic Regression and Random Forest models."
      ]
    },
    {
      "cell_type": "markdown",
      "metadata": {
        "id": "_U2-FpQhhtdv"
      },
      "source": [
        "#### I Implemented a function logistic_regression_model that returns a logistic regression model with the best paprameters. I used GridSearchCV to find the best parameters."
      ]
    },
    {
      "cell_type": "code",
      "execution_count": null,
      "metadata": {
        "id": "OxvUsf7I_guc"
      },
      "outputs": [],
      "source": [
        "from sklearn.linear_model import LogisticRegression\n",
        "from sklearn.model_selection import GridSearchCV\n",
        "def logistic_regression_model(X_train, y_train):\n",
        "    ### YOUR CODE HERE ###\n",
        "    Logistic_Model = LogisticRegression(max_iter= 200)\n",
        "    return Logistic_Model"
      ]
    },
    {
      "cell_type": "code",
      "execution_count": null,
      "metadata": {
        "id": "ZTgZvwQIuekK"
      },
      "outputs": [],
      "source": [
        "Logistic_Model = logistic_regression_model(X_train, y_train)"
      ]
    },
    {
      "cell_type": "code",
      "execution_count": null,
      "metadata": {
        "id": "P2Mk4quGupIw"
      },
      "outputs": [],
      "source": [
        "# define the grid search parameters\n",
        "solvers = ['liblinear']\n",
        "penalty = ['l1','l2']\n",
        "c_values = np.arange(0.1, 0.9, 0.05).astype(float)\n",
        "grid = dict(solver=solvers,penalty=penalty,C=c_values)\n",
        "grid_search = GridSearchCV(estimator=Logistic_Model, param_grid=grid, n_jobs=-1, cv=5, scoring='recall', verbose = True)"
      ]
    },
    {
      "cell_type": "code",
      "execution_count": null,
      "metadata": {
        "id": "NmcbIKkBw1sz"
      },
      "outputs": [],
      "source": [
        "y_train_1d = np.argmax(y_train, axis = 1)"
      ]
    },
    {
      "cell_type": "code",
      "execution_count": null,
      "metadata": {
        "colab": {
          "base_uri": "https://localhost:8080/"
        },
        "id": "uD_hfq-wujft",
        "outputId": "700c2cd2-91be-49a0-9297-96c0e6c3c758"
      },
      "outputs": [
        {
          "name": "stdout",
          "output_type": "stream",
          "text": [
            "Fitting 5 folds for each of 32 candidates, totalling 160 fits\n"
          ]
        }
      ],
      "source": [
        "grid_result=grid_search.fit(X_train, y_train_1d)"
      ]
    },
    {
      "cell_type": "code",
      "execution_count": null,
      "metadata": {
        "colab": {
          "base_uri": "https://localhost:8080/"
        },
        "id": "FOwf97wmxVp0",
        "outputId": "07bae063-5d67-4aaa-b8c9-24c9167c973c"
      },
      "outputs": [
        {
          "name": "stdout",
          "output_type": "stream",
          "text": [
            "Best: 0.393846 using {'C': 0.7000000000000002, 'penalty': 'l1', 'solver': 'liblinear'}\n",
            "0.360000 (0.024519) with: {'C': 0.1, 'penalty': 'l1', 'solver': 'liblinear'}\n",
            "0.370769 (0.020869) with: {'C': 0.1, 'penalty': 'l2', 'solver': 'liblinear'}\n",
            "0.372308 (0.019822) with: {'C': 0.15000000000000002, 'penalty': 'l1', 'solver': 'liblinear'}\n",
            "0.386154 (0.019092) with: {'C': 0.15000000000000002, 'penalty': 'l2', 'solver': 'liblinear'}\n",
            "0.370769 (0.024032) with: {'C': 0.20000000000000004, 'penalty': 'l1', 'solver': 'liblinear'}\n",
            "0.386154 (0.021428) with: {'C': 0.20000000000000004, 'penalty': 'l2', 'solver': 'liblinear'}\n",
            "0.381538 (0.022081) with: {'C': 0.25000000000000006, 'penalty': 'l1', 'solver': 'liblinear'}\n",
            "0.387692 (0.022081) with: {'C': 0.25000000000000006, 'penalty': 'l2', 'solver': 'liblinear'}\n",
            "0.384615 (0.020059) with: {'C': 0.30000000000000004, 'penalty': 'l1', 'solver': 'liblinear'}\n",
            "0.390769 (0.022506) with: {'C': 0.30000000000000004, 'penalty': 'l2', 'solver': 'liblinear'}\n",
            "0.384615 (0.020059) with: {'C': 0.3500000000000001, 'penalty': 'l1', 'solver': 'liblinear'}\n",
            "0.387692 (0.023634) with: {'C': 0.3500000000000001, 'penalty': 'l2', 'solver': 'liblinear'}\n",
            "0.386154 (0.017809) with: {'C': 0.40000000000000013, 'penalty': 'l1', 'solver': 'liblinear'}\n",
            "0.387692 (0.023634) with: {'C': 0.40000000000000013, 'penalty': 'l2', 'solver': 'liblinear'}\n",
            "0.386154 (0.017809) with: {'C': 0.45000000000000007, 'penalty': 'l1', 'solver': 'liblinear'}\n",
            "0.387692 (0.023634) with: {'C': 0.45000000000000007, 'penalty': 'l2', 'solver': 'liblinear'}\n",
            "0.389231 (0.020982) with: {'C': 0.5000000000000001, 'penalty': 'l1', 'solver': 'liblinear'}\n",
            "0.389231 (0.020982) with: {'C': 0.5000000000000001, 'penalty': 'l2', 'solver': 'liblinear'}\n",
            "0.389231 (0.020982) with: {'C': 0.5500000000000002, 'penalty': 'l1', 'solver': 'liblinear'}\n",
            "0.390769 (0.018462) with: {'C': 0.5500000000000002, 'penalty': 'l2', 'solver': 'liblinear'}\n",
            "0.389231 (0.020982) with: {'C': 0.6000000000000002, 'penalty': 'l1', 'solver': 'liblinear'}\n",
            "0.390769 (0.018462) with: {'C': 0.6000000000000002, 'penalty': 'l2', 'solver': 'liblinear'}\n",
            "0.392308 (0.021206) with: {'C': 0.6500000000000001, 'penalty': 'l1', 'solver': 'liblinear'}\n",
            "0.390769 (0.018462) with: {'C': 0.6500000000000001, 'penalty': 'l2', 'solver': 'liblinear'}\n",
            "0.393846 (0.021428) with: {'C': 0.7000000000000002, 'penalty': 'l1', 'solver': 'liblinear'}\n",
            "0.392308 (0.016136) with: {'C': 0.7000000000000002, 'penalty': 'l2', 'solver': 'liblinear'}\n",
            "0.392308 (0.019460) with: {'C': 0.7500000000000002, 'penalty': 'l1', 'solver': 'liblinear'}\n",
            "0.392308 (0.016136) with: {'C': 0.7500000000000002, 'penalty': 'l2', 'solver': 'liblinear'}\n",
            "0.392308 (0.019460) with: {'C': 0.8000000000000002, 'penalty': 'l1', 'solver': 'liblinear'}\n",
            "0.390769 (0.014916) with: {'C': 0.8000000000000002, 'penalty': 'l2', 'solver': 'liblinear'}\n",
            "0.393846 (0.017809) with: {'C': 0.8500000000000002, 'penalty': 'l1', 'solver': 'liblinear'}\n",
            "0.390769 (0.014916) with: {'C': 0.8500000000000002, 'penalty': 'l2', 'solver': 'liblinear'}\n"
          ]
        }
      ],
      "source": [
        "print(\"Best: %f using %s\" % (grid_result.best_score_, grid_result.best_params_))\n",
        "means = grid_result.cv_results_['mean_test_score']\n",
        "stds = grid_result.cv_results_['std_test_score']\n",
        "params = grid_result.cv_results_['params']\n",
        "for mean, stdev, param in zip(means, stds, params):\n",
        "    print(\"%f (%f) with: %r\" % (mean, stdev, param))"
      ]
    },
    {
      "cell_type": "markdown",
      "metadata": {
        "id": "peFhmNJYksHl"
      },
      "source": [
        "#### Fit the model by training set, obtain predictions on validation set and compute accuracy, precision, recall and F1 score."
      ]
    },
    {
      "cell_type": "code",
      "execution_count": null,
      "metadata": {
        "colab": {
          "base_uri": "https://localhost:8080/"
        },
        "id": "5SVfSxE6y2O0",
        "outputId": "c07a4834-2114-4aaa-ba59-8ebbfa4c33e1"
      },
      "outputs": [
        {
          "data": {
            "text/plain": [
              "LogisticRegression(C=0.7000000000000002, max_iter=200, penalty='l1',\n",
              "                   solver='liblinear')"
            ]
          },
          "execution_count": 104,
          "metadata": {},
          "output_type": "execute_result"
        }
      ],
      "source": [
        "my_Logistic_Model = LogisticRegression(C = 0.7000000000000002, penalty = 'l1', solver = 'liblinear', max_iter= 200)\n",
        "my_Logistic_Model.fit(X_train, y_train_1d)"
      ]
    },
    {
      "cell_type": "code",
      "execution_count": null,
      "metadata": {
        "id": "vZKpRT-Wzh9K"
      },
      "outputs": [],
      "source": [
        "y_logit_preds = my_Logistic_Model.predict(X_val)\n",
        "y_val_1d = np.argmax(y_val, axis = 1)"
      ]
    },
    {
      "cell_type": "code",
      "execution_count": null,
      "metadata": {
        "colab": {
          "base_uri": "https://localhost:8080/"
        },
        "id": "K3lllxOgz_nV",
        "outputId": "fe94049c-7cb2-4578-9f96-fb1defb95f7e"
      },
      "outputs": [
        {
          "name": "stdout",
          "output_type": "stream",
          "text": [
            "The accuracy of the Logistic Regression is 82.36%\n",
            "The precision of the Logistic Regression is 66.86%\n",
            "The recall of the Logistic Regression is 43.33%\n",
            "The F1 score of the Logistic Regression is 0.5258426966292136\n"
          ]
        }
      ],
      "source": [
        "logi_accuracy = my_accuracy(y_val_1d, y_logit_preds)\n",
        "logi_precision = my_precision(y_val_1d, y_logit_preds)\n",
        "logi_recall = my_recall(y_val_1d, y_logit_preds)\n",
        "logi_F1 = 2 * (logi_precision * logi_recall) / (logi_precision + logi_recall)\n",
        "print(f'The accuracy of the Logistic Regression is {logi_accuracy:.2%}')\n",
        "print(f'The precision of the Logistic Regression is {logi_precision:.2%}')\n",
        "print(f'The recall of the Logistic Regression is {logi_recall:.2%}')\n",
        "print(f'The F1 score of the Logistic Regression is {logi_F1}')"
      ]
    },
    {
      "cell_type": "markdown",
      "metadata": {
        "id": "sJ79uCf3mcHN"
      },
      "source": [
        "#### Plot the ROC curve."
      ]
    },
    {
      "cell_type": "code",
      "execution_count": null,
      "metadata": {
        "colab": {
          "base_uri": "https://localhost:8080/",
          "height": 644
        },
        "id": "1cvXDdiH_guc",
        "outputId": "c042948b-161f-444e-c95b-afd589d3477a"
      },
      "outputs": [
        {
          "name": "stdout",
          "output_type": "stream",
          "text": [
            "AUC of the dataset is 76.90%\n"
          ]
        },
        {
          "data": {
            "image/png": "[encoded data removed]",
            "text/plain": [
              "<Figure size 720x720 with 1 Axes>"
            ]
          },
          "metadata": {},
          "output_type": "display_data"
        }
      ],
      "source": [
        "### WRITE CODE HERE\n",
        "from sklearn.metrics import roc_auc_score\n",
        "from sklearn.metrics import roc_curve\n",
        "logi_auc_roc = roc_auc_score(y_val_1d, my_Logistic_Model.predict_proba(X_val)[:,1])\n",
        "fpr, tpr, thresholds = roc_curve(y_val_1d, my_Logistic_Model.predict_proba(X_val)[:,1])\n",
        "print(f'AUC of the dataset is {logi_auc_roc:.2%}')\n",
        "import matplotlib.pyplot as plt\n",
        "plt.figure(figsize = (10,10))\n",
        "plt.plot(fpr, tpr, label='Logistic Regression Network (area = %0.2f)' % logi_auc_roc)\n",
        "plt.plot([0, 1], [0, 1],'r--', color = 'red')\n",
        "plt.xlim([0.0, 1.0])\n",
        "plt.ylim([0.0, 1.05])\n",
        "plt.xlabel('False Positive Rate', fontsize = 14)\n",
        "plt.ylabel('True Positive Rate', fontsize = 14)\n",
        "plt.title('Receiver operating characteristic', fontsize = 16)\n",
        "plt.legend(loc=\"best\")\n",
        "plt.show()"
      ]
    },
    {
      "cell_type": "markdown",
      "metadata": {
        "id": "UrJqeP4wnAlp"
      },
      "source": [
        "#### I Implemented a function random_forest_model that returns a random forest model with the best paprameters. I applied GridSearchCV to find the best parameters. "
      ]
    },
    {
      "cell_type": "code",
      "execution_count": null,
      "metadata": {
        "id": "6FwUS0At_guc"
      },
      "outputs": [],
      "source": [
        "def random_forest_model(X_train, y_train):\n",
        "    rf = RandomForestClassifier(random_state=26) # Please set the random state to be 26\n",
        "    ### YOUR CODE HERE ###\n",
        "    random_forest_Model = rf\n",
        "    return random_forest_Model"
      ]
    },
    {
      "cell_type": "code",
      "execution_count": null,
      "metadata": {
        "id": "xBMlCn9g4BGC"
      },
      "outputs": [],
      "source": [
        "random_forest_Model = random_forest_model(X_train, y_train)"
      ]
    },
    {
      "cell_type": "code",
      "execution_count": null,
      "metadata": {
        "id": "s61VFqZy4bdt"
      },
      "outputs": [],
      "source": [
        "params_grids = {\n",
        "    'max_depth': range(3,10,2),\n",
        "    'max_features': range(3,9,2),\n",
        "    'min_samples_leaf': range(10,60,10),\n",
        "    'min_samples_split': range(50,201,20),\n",
        "    'n_estimators': range(10,51,10)\n",
        "      }"
      ]
    },
    {
      "cell_type": "code",
      "execution_count": null,
      "metadata": {
        "colab": {
          "base_uri": "https://localhost:8080/"
        },
        "id": "pnI7v-164mnN",
        "outputId": "878a5065-3d4d-4502-eb70-fe1e8ad03010"
      },
      "outputs": [
        {
          "name": "stdout",
          "output_type": "stream",
          "text": [
            "Fitting 5 folds for each of 2400 candidates, totalling 12000 fits\n"
          ]
        }
      ],
      "source": [
        "rf_gridsearch = GridSearchCV(estimator = random_forest_Model, param_grid = params_grids, cv = 5, n_jobs = -1, verbose = True, scoring = 'recall')\n",
        "grid_result_rf = rf_gridsearch.fit(X_train, y_train_1d)"
      ]
    },
    {
      "cell_type": "code",
      "execution_count": null,
      "metadata": {
        "colab": {
          "base_uri": "https://localhost:8080/"
        },
        "id": "l4yTltbv6q64",
        "outputId": "8a572cfe-809f-4347-a5da-4e16aeabeb8a"
      },
      "outputs": [
        {
          "name": "stdout",
          "output_type": "stream",
          "text": [
            "Best: 0.258462 using {'max_depth': 9, 'max_features': 7, 'min_samples_leaf': 10, 'min_samples_split': 70, 'n_estimators': 40}\n",
            "0.360000 (0.024519) with: {'C': 0.1, 'penalty': 'l1', 'solver': 'liblinear'}\n",
            "0.370769 (0.020869) with: {'C': 0.1, 'penalty': 'l2', 'solver': 'liblinear'}\n",
            "0.372308 (0.019822) with: {'C': 0.15000000000000002, 'penalty': 'l1', 'solver': 'liblinear'}\n",
            "0.386154 (0.019092) with: {'C': 0.15000000000000002, 'penalty': 'l2', 'solver': 'liblinear'}\n",
            "0.370769 (0.024032) with: {'C': 0.20000000000000004, 'penalty': 'l1', 'solver': 'liblinear'}\n",
            "0.386154 (0.021428) with: {'C': 0.20000000000000004, 'penalty': 'l2', 'solver': 'liblinear'}\n",
            "0.381538 (0.022081) with: {'C': 0.25000000000000006, 'penalty': 'l1', 'solver': 'liblinear'}\n",
            "0.387692 (0.022081) with: {'C': 0.25000000000000006, 'penalty': 'l2', 'solver': 'liblinear'}\n",
            "0.384615 (0.020059) with: {'C': 0.30000000000000004, 'penalty': 'l1', 'solver': 'liblinear'}\n",
            "0.390769 (0.022506) with: {'C': 0.30000000000000004, 'penalty': 'l2', 'solver': 'liblinear'}\n",
            "0.384615 (0.020059) with: {'C': 0.3500000000000001, 'penalty': 'l1', 'solver': 'liblinear'}\n",
            "0.387692 (0.023634) with: {'C': 0.3500000000000001, 'penalty': 'l2', 'solver': 'liblinear'}\n",
            "0.386154 (0.017809) with: {'C': 0.40000000000000013, 'penalty': 'l1', 'solver': 'liblinear'}\n",
            "0.387692 (0.023634) with: {'C': 0.40000000000000013, 'penalty': 'l2', 'solver': 'liblinear'}\n",
            "0.386154 (0.017809) with: {'C': 0.45000000000000007, 'penalty': 'l1', 'solver': 'liblinear'}\n",
            "0.387692 (0.023634) with: {'C': 0.45000000000000007, 'penalty': 'l2', 'solver': 'liblinear'}\n",
            "0.389231 (0.020982) with: {'C': 0.5000000000000001, 'penalty': 'l1', 'solver': 'liblinear'}\n",
            "0.389231 (0.020982) with: {'C': 0.5000000000000001, 'penalty': 'l2', 'solver': 'liblinear'}\n",
            "0.389231 (0.020982) with: {'C': 0.5500000000000002, 'penalty': 'l1', 'solver': 'liblinear'}\n",
            "0.390769 (0.018462) with: {'C': 0.5500000000000002, 'penalty': 'l2', 'solver': 'liblinear'}\n",
            "0.389231 (0.020982) with: {'C': 0.6000000000000002, 'penalty': 'l1', 'solver': 'liblinear'}\n",
            "0.390769 (0.018462) with: {'C': 0.6000000000000002, 'penalty': 'l2', 'solver': 'liblinear'}\n",
            "0.392308 (0.021206) with: {'C': 0.6500000000000001, 'penalty': 'l1', 'solver': 'liblinear'}\n",
            "0.390769 (0.018462) with: {'C': 0.6500000000000001, 'penalty': 'l2', 'solver': 'liblinear'}\n",
            "0.393846 (0.021428) with: {'C': 0.7000000000000002, 'penalty': 'l1', 'solver': 'liblinear'}\n",
            "0.392308 (0.016136) with: {'C': 0.7000000000000002, 'penalty': 'l2', 'solver': 'liblinear'}\n",
            "0.392308 (0.019460) with: {'C': 0.7500000000000002, 'penalty': 'l1', 'solver': 'liblinear'}\n",
            "0.392308 (0.016136) with: {'C': 0.7500000000000002, 'penalty': 'l2', 'solver': 'liblinear'}\n",
            "0.392308 (0.019460) with: {'C': 0.8000000000000002, 'penalty': 'l1', 'solver': 'liblinear'}\n",
            "0.390769 (0.014916) with: {'C': 0.8000000000000002, 'penalty': 'l2', 'solver': 'liblinear'}\n",
            "0.393846 (0.017809) with: {'C': 0.8500000000000002, 'penalty': 'l1', 'solver': 'liblinear'}\n",
            "0.390769 (0.014916) with: {'C': 0.8500000000000002, 'penalty': 'l2', 'solver': 'liblinear'}\n"
          ]
        }
      ],
      "source": [
        "print(\"Best: %f using %s\" % (grid_result_rf.best_score_, grid_result_rf.best_params_))\n",
        "means = grid_result.cv_results_['mean_test_score']\n",
        "stds = grid_result.cv_results_['std_test_score']\n",
        "params = grid_result.cv_results_['params']\n",
        "for mean, stdev, param in zip(means, stds, params):\n",
        "    print(\"%f (%f) with: %r\" % (mean, stdev, param))"
      ]
    },
    {
      "cell_type": "markdown",
      "metadata": {
        "id": "dJvKtZ5Ho0by"
      },
      "source": [
        "#### Fit the model by training set, obtain predictions on validation set and compute accuracy, precision, recall and F1 score."
      ]
    },
    {
      "cell_type": "code",
      "execution_count": null,
      "metadata": {
        "id": "1ygnG-7U_guc"
      },
      "outputs": [],
      "source": [
        "my_rf_model = RandomForestClassifier(max_depth = 9 , max_features = 7 ,min_samples_leaf = 10 ,min_samples_split = 70 ,n_estimators = 40 ,random_state=26)\n",
        "my_rf_model.fit(X_train, y_train_1d)\n",
        "y_rf_preds = my_rf_model.predict(X_val)\n",
        "y_val_1d = np.argmax(y_val, axis = 1)"
      ]
    },
    {
      "cell_type": "code",
      "execution_count": null,
      "metadata": {
        "colab": {
          "base_uri": "https://localhost:8080/"
        },
        "id": "8CekzTfw8k-i",
        "outputId": "01af6d90-53be-4d61-f93e-58045dc753bd"
      },
      "outputs": [
        {
          "name": "stdout",
          "output_type": "stream",
          "text": [
            "The accuracy of the Random Forest Regression is 81.35%\n",
            "The precision of the Random Forest Regression is 67.67%\n",
            "The recall of the Random ForestLogistic Regression is 33.33%\n",
            "The F1 score of the Random Forest Regression is 0.4466501240694789\n"
          ]
        }
      ],
      "source": [
        "rf_accuracy = my_accuracy(y_val_1d, y_rf_preds)\n",
        "rf_precision = my_precision(y_val_1d, y_rf_preds)\n",
        "rf_recall = my_recall(y_val_1d, y_rf_preds)\n",
        "rf_F1 = 2 * (rf_precision * rf_recall) / (rf_precision + rf_recall)\n",
        "print(f'The accuracy of the Random Forest Regression is {rf_accuracy:.2%}')\n",
        "print(f'The precision of the Random Forest Regression is {rf_precision:.2%}')\n",
        "print(f'The recall of the Random ForestLogistic Regression is {rf_recall:.2%}')\n",
        "print(f'The F1 score of the Random Forest Regression is {rf_F1}')"
      ]
    },
    {
      "cell_type": "markdown",
      "metadata": {
        "id": "oPN8cSbMo6hh"
      },
      "source": [
        "#### Plot the ROC curve "
      ]
    },
    {
      "cell_type": "code",
      "execution_count": null,
      "metadata": {
        "colab": {
          "base_uri": "https://localhost:8080/",
          "height": 644
        },
        "id": "X7mtOQ1B_guc",
        "outputId": "110f4234-8135-4fe7-df2e-0cdb7b337f0d"
      },
      "outputs": [
        {
          "name": "stdout",
          "output_type": "stream",
          "text": [
            "AUC of the dataset is 76.86%\n"
          ]
        },
        {
          "data": {
            "image/png": "[encoded data removed]",
            "text/plain": [
              "<Figure size 720x720 with 1 Axes>"
            ]
          },
          "metadata": {},
          "output_type": "display_data"
        }
      ],
      "source": [
        "### WRITE CODE HERE\n",
        "from sklearn.metrics import roc_auc_score\n",
        "from sklearn.metrics import roc_curve\n",
        "rf_auc_roc = roc_auc_score(y_val_1d, my_rf_model.predict_proba(X_val)[:,1])\n",
        "fpr, tpr, thresholds = roc_curve(y_val_1d, my_rf_model.predict_proba(X_val)[:,1])\n",
        "print(f'AUC of the dataset is {rf_auc_roc:.2%}')\n",
        "import matplotlib.pyplot as plt\n",
        "plt.figure(figsize = (10,10))\n",
        "plt.plot(fpr, tpr, label='Random Forest Network (area = %0.2f)' % rf_auc_roc)\n",
        "plt.plot([0, 1], [0, 1],'r--', color = 'red')\n",
        "plt.xlim([0.0, 1.0])\n",
        "plt.ylim([0.0, 1.05])\n",
        "plt.xlabel('False Positive Rate', fontsize = 14)\n",
        "plt.ylabel('True Positive Rate', fontsize = 14)\n",
        "plt.title('Receiver operating characteristic', fontsize = 16)\n",
        "plt.legend(loc=\"best\")\n",
        "plt.show()"
      ]
    },
    {
      "cell_type": "markdown",
      "metadata": {
        "id": "RIYIR7PX_guc"
      },
      "source": [
        "### My finding about three Models:\n",
        "\n"
      ]
    },
    {
      "cell_type": "markdown",
      "metadata": {
        "id": "TYxF8wzzwB5x"
      },
      "source": [
        "After comparing Three models: Logistic regression, Random Forest, Neural Network, I knew that accuracy is almost similar. Best model has been chosen based on minimum value for Type 2 error. Recall is a useful metric in cases where False Negative trumps False Positive. Type 2 error is abour False Negative (FN) \n",
        "\n",
        "Model would help the issuer have a better understanding of their current and potential customers, which would inform their future strategy, including their planning of offering targeted credit products to their customers.\n",
        "\n",
        "As mentioned above, recall is the most important metric to be focused on.\n",
        "So here, **Neural Network** is a way more advanced model, which having much better recall. Also, Neural Network Model has better accuracy/F1 Score as well.\n",
        "\n",
        "Then Logistic Model is better than Random Forest while being worse than Neural Network. It has much better recall than random forest while precision is closed to random Forest.\n",
        "\n",
        "Random Forest is the least superior model even getting the better presion. Its recall as well as the F1 score are the worst.\n"
      ]
    },
    {
      "cell_type": "markdown",
      "metadata": {
        "id": "SLTYUUkg_guc"
      },
      "source": [
        "## **LAST STEP: Using the best model(Neural Network to predict the test set** **bold text**"
      ]
    },
    {
      "cell_type": "code",
      "execution_count": null,
      "metadata": {
        "colab": {
          "base_uri": "https://localhost:8080/"
        },
        "id": "DXy2-Vm8_guc",
        "outputId": "56979a1f-a93c-4202-9741-d79149552b48"
      },
      "outputs": [
        {
          "data": {
            "text/plain": [
              "array([0, 0, 1, 0, 0, 0, 0, 0, 0, 0, 0, 1, 0, 0, 0, 0, 0, 0, 1, 0, 0, 0,\n",
              "       1, 0, 1, 0, 1, 0, 0, 1, 0, 0, 0, 0, 1, 0, 0, 0, 0, 0, 0, 0, 0, 0,\n",
              "       0, 0, 0, 0, 0, 1, 0, 0, 0, 0, 0, 1, 1, 0, 0, 0, 0, 0, 0, 0, 0, 0,\n",
              "       0, 0, 0, 0, 0, 0, 1, 0, 0, 0, 0, 0, 0, 0, 1, 0, 0, 0, 1, 0, 0, 0,\n",
              "       0, 1, 0, 0, 0, 0, 0, 0, 0, 0, 0, 0, 0, 0, 0, 0, 0, 0, 0, 0, 0, 0,\n",
              "       0, 0, 0, 0, 0, 1, 0, 0, 0, 0, 0, 0, 0, 0, 0, 0, 0, 0, 0, 0, 0, 0,\n",
              "       0, 0, 0, 0, 1, 1, 1, 0, 1, 0, 1, 0, 0, 1, 0, 0, 0, 0, 0, 0, 0, 0,\n",
              "       0, 0, 0, 0, 0, 0, 0, 0, 0, 0, 0, 0, 0, 0, 0, 0, 0, 0, 0, 1, 0, 0,\n",
              "       1, 0, 0, 0, 0, 0, 0, 0, 0, 0, 0, 0, 0, 0, 0, 0, 1, 1, 0, 1, 0, 0,\n",
              "       0, 0, 0, 0, 1, 1, 0, 0, 0, 0, 0, 0, 0, 0, 0, 0, 0, 0, 0, 0, 0, 0,\n",
              "       0, 0, 0, 0, 0, 0, 0, 0, 0, 0, 0, 1, 0, 0, 0, 0, 0, 0, 0, 0, 1, 0,\n",
              "       0, 0, 0, 0, 1, 0, 0, 0, 0, 0, 0, 0, 0, 0, 0, 0, 0, 0, 0, 1, 0, 0,\n",
              "       0, 1, 0, 0, 0, 0, 0, 0, 0, 1, 1, 0, 1, 0, 0, 0, 1, 1, 0, 0, 0, 0,\n",
              "       1, 0, 0, 0, 1, 0, 0, 0, 1, 0, 1, 0, 0, 0, 0, 0, 1, 0, 0, 1, 0, 0,\n",
              "       0, 0, 0, 0, 0, 0, 0, 1, 1, 0, 0, 0, 1, 0, 0, 0, 0, 0, 0, 1, 0, 0,\n",
              "       0, 0, 0, 0, 0, 0, 1, 0, 0, 1, 0, 0, 0, 0, 0, 1, 0, 0, 0, 1, 0, 0,\n",
              "       0, 0, 0, 0, 0, 1, 1, 0, 0, 0, 0, 0, 0, 0, 0, 0, 0, 0, 0, 1, 0, 1,\n",
              "       0, 0, 0, 0, 0, 0, 0, 0, 1, 0, 0, 0, 0, 0, 1, 0, 0, 1, 0, 0, 1, 0,\n",
              "       0, 0, 0, 0, 1, 1, 0, 0, 0, 1, 0, 0, 0, 0, 0, 1, 1, 1, 0, 0, 1, 0,\n",
              "       1, 0, 0, 0, 0, 1, 0, 0, 1, 0, 0, 0, 0, 0, 0, 0, 0, 0, 0, 0, 0, 0,\n",
              "       0, 0, 0, 0, 1, 0, 0, 0, 0, 0, 0, 1, 0, 0, 0, 0, 1, 0, 0, 0, 1, 1,\n",
              "       0, 0, 0, 0, 0, 1, 0, 0, 0, 0, 0, 0, 0, 0, 0, 0, 0, 0, 0, 1, 0, 0,\n",
              "       0, 0, 0, 1, 1, 0, 0, 0, 0, 1, 0, 0, 0, 0, 0, 0, 0, 0, 0, 0, 0, 0,\n",
              "       0, 1, 0, 0, 0, 0, 1, 1, 1, 1, 0, 0, 0, 0, 0, 0, 0, 0, 0, 0, 0, 0,\n",
              "       0, 0, 0, 0, 0, 0, 0, 0, 0, 0, 0, 0, 0, 0, 0, 1, 1, 0, 0, 0, 1, 0,\n",
              "       0, 0, 0, 0, 0, 0, 0, 0, 0, 0, 1, 0, 0, 0, 0, 1, 1, 1, 0, 0, 0, 0,\n",
              "       0, 0, 0, 0, 0, 0, 0, 0, 0, 0, 0, 0, 0, 0, 0, 0, 0, 0, 1, 0, 0, 0,\n",
              "       0, 1, 0, 0, 0, 1, 0, 0, 0, 0, 1, 0, 0, 0, 0, 0, 0, 0, 0, 0, 0, 0,\n",
              "       0, 0, 0, 0, 0, 0, 0, 0, 1, 0, 1, 0, 0, 0, 0, 0, 0, 0, 0, 0, 0, 0,\n",
              "       0, 0, 1, 0, 0, 0, 0, 0, 0, 0, 0, 0, 0, 0, 0, 0, 0, 0, 0, 0, 0, 0,\n",
              "       0, 0, 0, 0, 0, 0, 0, 0, 0, 1, 0, 0, 0, 0, 0, 0, 0, 1, 0, 0, 0, 0,\n",
              "       0, 0, 0, 0, 1, 0, 1, 0, 0, 0, 0, 0, 0, 1, 0, 0, 0, 0, 0, 1, 0, 0,\n",
              "       0, 0, 0, 0, 0, 0, 0, 0, 0, 0, 0, 0, 0, 0, 0, 1, 0, 0, 0, 1, 0, 0,\n",
              "       0, 0, 1, 0, 0, 0, 0, 1, 0, 0, 1, 1, 0, 0, 0, 0, 0, 0, 0, 0, 0, 0,\n",
              "       0, 0, 0, 0, 0, 0, 0, 0, 0, 0, 0, 1, 0, 0, 0, 0, 0, 0, 0, 0, 0, 0,\n",
              "       0, 0, 0, 0, 1, 0, 0, 0, 1, 0, 1, 0, 0, 0, 0, 0, 1, 0, 0, 0, 0, 0,\n",
              "       0, 0, 0, 0, 0, 0, 0, 0, 0, 0, 0, 0, 1, 0, 0, 0, 1, 0, 0, 0, 0, 0,\n",
              "       0, 0, 0, 0, 0, 0, 0, 1, 0, 1, 0, 0, 1, 0, 0, 0, 0, 0, 0, 0, 0, 0,\n",
              "       0, 0, 0, 0, 0, 0, 0, 0, 0, 0, 0, 0, 0, 0, 0, 0, 0, 0, 0, 0, 0, 1,\n",
              "       0, 0, 0, 0, 0, 0, 0, 1, 0, 0, 0, 0, 0, 1, 0, 0, 1, 0, 0, 0, 0, 0,\n",
              "       0, 0, 0, 0, 0, 0, 0, 1, 1, 0, 0, 1, 0, 0, 0, 1, 0, 0, 1, 0, 0, 0,\n",
              "       1, 0, 0, 0, 0, 1, 1, 0, 0, 0, 0, 0, 0, 0, 0, 0, 0, 0, 0, 1, 0, 0,\n",
              "       0, 1, 0, 1, 0, 0, 1, 0, 0, 0, 0, 1, 0, 0, 0, 0, 0, 0, 0, 0, 0, 0,\n",
              "       0, 0, 0, 0, 0, 0, 1, 0, 0, 1, 1, 1, 1, 0, 0, 0, 0, 0, 1, 0, 1, 0,\n",
              "       0, 0, 0, 0, 0, 0, 0, 0, 0, 1, 0, 0, 0, 0, 1, 0, 0, 0, 0, 0, 0, 0,\n",
              "       0, 0, 0, 0, 1, 0, 1, 0, 0, 0])"
            ]
          },
          "execution_count": 117,
          "metadata": {},
          "output_type": "execute_result"
        }
      ],
      "source": [
        "### YOUR CODE HERE ###\n",
        "final_y_pred = model_5_Q10.predict(X_test_df) \n",
        "final_result = np.argmax(final_y_pred, axis = 1)\n",
        "final_result"
      ]
    }
  ],
  "metadata": {
    "colab": {
      "collapsed_sections": [],
      "name": "Credit Card Default Machine Learning Project Using Neural Network/Logistic/RandomForest.ipynb",
      "provenance": []
    },
    "kernelspec": {
      "display_name": "Python 3",
      "language": "python",
      "name": "python3"
    },
    "language_info": {
      "codemirror_mode": {
        "name": "ipython",
        "version": 3
      },
      "file_extension": ".py",
      "mimetype": "text/x-python",
      "name": "python",
      "nbconvert_exporter": "python",
      "pygments_lexer": "ipython3",
      "version": "3.7.6"
    }
  },
  "nbformat": 4,
  "nbformat_minor": 0
}